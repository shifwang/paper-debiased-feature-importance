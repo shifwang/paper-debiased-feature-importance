{
 "cells": [
  {
   "cell_type": "code",
   "execution_count": 268,
   "metadata": {},
   "outputs": [],
   "source": [
    "import shap\n",
    "import pandas as pd\n",
    "import scipy as sp\n",
    "import numpy as np\n",
    "from irf.ensemble import wrf\n",
    "from sklearn.ensemble import RandomForestClassifier as rfc\n",
    "from sklearn.ensemble import RandomForestRegressor as rfr\n",
    "from sklearn.preprocessing import LabelEncoder, OneHotEncoder, LabelBinarizer, MinMaxScaler\n",
    "from sklearn.metrics import accuracy_score, roc_auc_score, f1_score\n",
    "import matplotlib.pyplot as plt\n",
    "from treeinterpreter.feature_importance import feature_importance as FI\n",
    "from treeinterpreter.feature_importance import MDA"
   ]
  },
  {
   "cell_type": "markdown",
   "metadata": {},
   "source": [
    "# Compare different methods in terms of feature selection using simulated data"
   ]
  },
  {
   "cell_type": "code",
   "execution_count": null,
   "metadata": {},
   "outputs": [
    {
     "name": "stdout",
     "output_type": "stream",
     "text": [
      "working on 1 classification deep\n"
     ]
    },
    {
     "name": "stderr",
     "output_type": "stream",
     "text": [
      "/home/ubuntu/github/treeinterpreter/treeinterpreter/feature_importance.py:23: RuntimeWarning: invalid value encountered in double_scalars\n",
      "  permute_std = (permute_std - permute_score ** 2) ** .5 / n_trials ** .5\n"
     ]
    },
    {
     "name": "stdout",
     "output_type": "stream",
     "text": [
      "working on 1 classification shallow\n"
     ]
    },
    {
     "name": "stderr",
     "output_type": "stream",
     "text": [
      "/home/ubuntu/github/treeinterpreter/treeinterpreter/feature_importance.py:23: RuntimeWarning: invalid value encountered in double_scalars\n",
      "  permute_std = (permute_std - permute_score ** 2) ** .5 / n_trials ** .5\n",
      "/home/ubuntu/github/treeinterpreter/treeinterpreter/feature_importance.py:23: RuntimeWarning: invalid value encountered in double_scalars\n",
      "  permute_std = (permute_std - permute_score ** 2) ** .5 / n_trials ** .5\n",
      "/home/ubuntu/github/treeinterpreter/treeinterpreter/feature_importance.py:23: RuntimeWarning: invalid value encountered in double_scalars\n",
      "  permute_std = (permute_std - permute_score ** 2) ** .5 / n_trials ** .5\n"
     ]
    },
    {
     "name": "stdout",
     "output_type": "stream",
     "text": [
      "working on 1 regression deep\n"
     ]
    }
   ],
   "source": [
    "### load data\n",
    "\n",
    "num = 2\n",
    "\n",
    "problem = [0]\n",
    "tree_depth = [1]\n",
    "for num in range(1, 3):\n",
    "    for problem in ['classification', 'regression']:\n",
    "        for tree_depth in ['deep', 'shallow']:\n",
    "            print('working on {} {} {}'.format(num, problem, tree_depth))\n",
    "            oob_list, gini_list, shap_list, mda_list = [], [], [], []\n",
    "            for i in range(40):\n",
    "                X_train = np.loadtxt('../intermediate/04_aggregate/{}{}/permuted{}_X_train.csv'.format(problem, num, i), delimiter=',')\n",
    "                y_train = np.loadtxt('../intermediate/04_aggregate/{}{}/permuted{}_y_train.csv'.format(problem, num, i), delimiter=',')\n",
    "                X_test = np.loadtxt('../intermediate/04_aggregate/{}{}/permuted{}_X_test.csv'.format(problem, num, i), delimiter=',')\n",
    "                y_test = np.loadtxt('../intermediate/04_aggregate/{}{}/permuted{}_y_test.csv'.format(problem, num, i), delimiter=',')\n",
    "                noisy_features = np.loadtxt('../intermediate/04_aggregate/{}{}/permuted{}_noisy_features.csv'.format(problem, num, i), delimiter=',').astype(np.int)\n",
    "                n_features = len(noisy_features)\n",
    "\n",
    "                ### Train RF\n",
    "                if problem == 'classification':\n",
    "                    if tree_depth == 'deep':\n",
    "                        rf = rfc(n_estimators=100, max_features=10, min_samples_leaf=1)\n",
    "                    else:\n",
    "                        rf = rfc(n_estimators=100, max_features=10, min_samples_leaf=100)\n",
    "                else:\n",
    "                    if tree_depth == 'deep':\n",
    "                        rf = rfr(n_estimators=100, max_features= 10, min_samples_leaf=1)\n",
    "                    else:\n",
    "                        rf = rfr(n_estimators=100, max_features= 10, min_samples_leaf=100)\n",
    "                rf.fit(X_train, y_train)\n",
    "                gini_imp = rf.feature_importances_\n",
    "                if problem == 'classification':\n",
    "                    y_train_one_hot = OneHotEncoder().fit_transform(y_train[:, np.newaxis]).todense()\n",
    "                    oob_imp, debiased_fi_std = FI(rf, X_train, y_train_one_hot, type='oob', normalized=False, balanced = False)\n",
    "                else:\n",
    "                    oob_imp, debiased_fi_std = FI(rf, X_train, y_train[:, np.newaxis], type='oob', normalized=False, balanced = False)\n",
    "\n",
    "                if problem == 'classification':\n",
    "                    MDA_imp, _ = MDA(rf, X_test, y_test[:, np.newaxis], type='test', n_trials=5)\n",
    "                else:\n",
    "                    MDA_imp, _ = MDA(rf, X_test, y_test[:, np.newaxis], type='test', n_trials=5, metric='mse')\n",
    "\n",
    "                explainer = shap.TreeExplainer(rf)\n",
    "                samples = np.random.choice(range(X_train.shape[0]), 100)\n",
    "                shap_values = explainer.shap_values(X_train[samples, :])\n",
    "                #shap_values = explainer.shap_values(X_train)\n",
    "                if problem == 'classification':\n",
    "                    shap_imp = np.mean(abs(shap_values[0]), 0) + np.mean(abs(shap_values[1]), 0)\n",
    "                else:\n",
    "                    shap_imp = np.mean(abs(shap_values), 0) \n",
    "\n",
    "                ### Comparison\n",
    "\n",
    "                oob_imp[oob_imp < 0] = 0\n",
    "                MDA_imp[MDA_imp < 0] = 0\n",
    "                oob_list.append(roc_auc_score(noisy_features, - oob_imp))\n",
    "                gini_list.append(roc_auc_score(noisy_features, - gini_imp))\n",
    "                shap_list.append(roc_auc_score(noisy_features, - shap_imp))\n",
    "                mda_list.append(roc_auc_score(noisy_features, - MDA_imp))\n",
    "\n",
    "            np.savez('../intermediate/04_aggregate/{}{}/new_results_{}.npz'.format(problem, num, tree_depth), debiased_list = oob_list, gini_list=gini_list, shap_list=shap_list, mda_list=mda_list)\n"
   ]
  },
  {
   "cell_type": "code",
   "execution_count": 496,
   "metadata": {},
   "outputs": [
    {
     "data": {
      "image/png": "[encoded data removed]",
      "text/plain": [
       "<Figure size 432x288 with 1 Axes>"
      ]
     },
     "metadata": {},
     "output_type": "display_data"
    },
    {
     "name": "stdout",
     "output_type": "stream",
     "text": [
      "[0.896      0.79466667 0.71333333 1.         0.94133333 0.70666667\n",
      " 0.60133333 0.896      1.         0.97333333 0.712      0.98666667\n",
      " 0.99733333 0.97866667 0.98133333 0.86666667 0.91733333 0.87733333\n",
      " 0.944      0.864      0.73333333 0.772      0.552      0.91466667\n",
      " 0.99466667 0.97866667 0.89066667 1.         0.99733333 0.83466667\n",
      " 0.84266667 0.92533333 0.84533333 0.97333333 0.84       0.752\n",
      " 0.74133333 0.85333333 1.         0.74933333]\n",
      "[0.81066667 0.664      0.61333333 0.96533333 0.90666667 0.64266667\n",
      " 0.53333333 0.77333333 0.90933333 0.81333333 0.55733333 0.92533333\n",
      " 0.92       0.84       0.80533333 0.86133333 0.91466667 0.74666667\n",
      " 0.83733333 0.75466667 0.77066667 0.66133333 0.696      0.696\n",
      " 0.872      0.728      0.72       0.968      0.87466667 0.39733333\n",
      " 0.78933333 0.89333333 0.68       0.90133333 0.77866667 0.584\n",
      " 0.608      0.68266667 0.77866667 0.512     ]\n"
     ]
    }
   ],
   "source": [
    "problem = 'classification'\n",
    "num = 1\n",
    "tree_depth = 'shallow'\n",
    "tmp = np.load('../intermediate/04_aggregate/{}{}/new_results_{}.npz'.format(problem, num, tree_depth))\n",
    "debiased, gini, SHAP, mda = [tmp[x] for x in list(tmp)]\n",
    "tmp2 = pd.read_csv('../intermediate/04_aggregate_R/auc_df_{}{}_{}.csv'.format(problem, num, tree_depth))\n",
    "gini_R, ranger, cforest = np.array(tmp2.iloc[:, 1]), np.array(tmp2.iloc[:, 2]), np.array(tmp2.iloc[:, 3])\n",
    "gini_R, ranger, cforest\n",
    "out = np.array([debiased, SHAP,ranger, mda, cforest, gini]).T\n",
    "plt.boxplot(out)\n",
    "plt.xticks(list(range(1, 7)), ['MDI-oob', 'SHAP', 'ranger', 'MDA', 'cforest', 'MDI'])\n",
    "plt.show()\n",
    "print(gini)\n",
    "print(gini_R)"
   ]
  },
  {
   "cell_type": "code",
   "execution_count": 497,
   "metadata": {},
   "outputs": [
    {
     "name": "stdout",
     "output_type": "stream",
     "text": [
      " \n",
      "0.924\n",
      "0.902\n",
      "0.853\n",
      "0.503\n",
      "0.913\n",
      "0.871\n",
      " \n"
     ]
    }
   ],
   "source": [
    "print(' ')\n",
    "[print('{:.3f}'.format(x)) for x in np.mean(out,0)]\n",
    "print(' ')"
   ]
  },
  {
   "cell_type": "code",
   "execution_count": 397,
   "metadata": {},
   "outputs": [
    {
     "data": {
      "text/plain": [
       "array([0.704     , 0.55466667, 0.60533333, 0.872     , 0.81066667,\n",
       "       0.584     , 0.408     , 0.66666667, 0.46666667, 0.632     ,\n",
       "       0.33066667, 0.76533333, 0.73333333, 0.688     , 0.61333333,\n",
       "       0.84533333, 0.576     , 0.568     , 0.70133333, 0.62933333,\n",
       "       0.69333333, 0.50933333, 0.304     , 0.624     , 0.71733333,\n",
       "       0.616     , 0.54933333, 0.72      , 0.808     , 0.34933333,\n",
       "       0.688     , 0.704     , 0.52      , 0.66933333, 0.48      ,\n",
       "       0.24533333, 0.46933333, 0.53066667, 0.54133333, 0.38133333,\n",
       "       0.93066667, 0.808     , 0.69733333, 1.        , 0.97333333,\n",
       "       0.71733333, 0.54666667, 0.792     , 1.        , 0.976     ,\n",
       "       0.664     , 0.98666667, 0.99466667, 0.984     , 0.97866667,\n",
       "       0.872     , 0.92533333, 0.94133333, 0.99466667, 0.82666667,\n",
       "       0.768     , 0.78666667, 0.48533333, 0.888     , 0.98133333,\n",
       "       0.91466667, 0.968     , 0.99733333, 0.976     , 0.93333333,\n",
       "       0.864     , 0.968     , 0.904     , 0.984     , 0.90666667,\n",
       "       0.74933333, 0.81066667, 0.89866667, 0.99733333, 0.69866667,\n",
       "       0.648     , 0.79466667, 0.744     , 0.67466667, 0.688     ,\n",
       "       0.78666667, 0.64266667, 0.68      , 0.60266667, 0.58133333,\n",
       "       0.82133333, 0.59733333, 0.62133333, 0.71466667, 0.664     ,\n",
       "       0.712     , 0.856     , 0.69066667, 0.568     , 0.77866667,\n",
       "       0.624     , 0.45333333, 0.608     , 0.856     , 0.768     ,\n",
       "       0.84533333, 0.66133333, 0.87466667, 0.41866667, 0.65066667,\n",
       "       0.70133333, 0.78133333, 0.96      , 0.84      , 0.62933333,\n",
       "       0.58933333, 0.81066667, 0.75466667, 0.58133333, 0.95466667,\n",
       "       1.        , 1.        , 1.        , 0.848     , 1.        ,\n",
       "       0.992     , 0.98933333, 1.        , 0.99466667, 0.8       ,\n",
       "       0.92533333, 1.        , 0.97866667, 1.        , 1.        ,\n",
       "       0.89333333, 1.        , 1.        , 1.        , 0.96533333,\n",
       "       0.992     , 1.        , 1.        , 1.        , 1.        ,\n",
       "       1.        , 0.99466667, 1.        , 0.804     , 1.        ,\n",
       "       0.98933333, 1.        , 1.        , 0.83466667, 1.        ,\n",
       "       0.98933333, 0.82933333, 1.        , 1.        , 1.        ,\n",
       "       0.15111111, 0.12      , 0.14666667, 0.14666667, 0.00444444,\n",
       "       0.27111111, 0.08444444, 0.09777778, 0.15111111, 0.04444444,\n",
       "       0.17777778, 0.15555556, 0.12444444, 0.09333333, 0.11555556,\n",
       "       0.14222222, 0.09777778, 0.08      , 0.16888889, 0.08444444,\n",
       "       0.08444444, 0.14666667, 0.05777778, 0.11111111, 0.11111111,\n",
       "       0.08      , 0.06222222, 0.25777778, 0.07111111, 0.25333333,\n",
       "       0.17333333, 0.04444444, 0.11555556, 0.05777778, 0.08444444,\n",
       "       0.07111111, 0.11111111, 0.13777778, 0.09333333, 0.13333333,\n",
       "       0.71555556, 0.75555556, 0.53333333, 0.49777778, 0.47555556,\n",
       "       0.82666667, 0.85777778, 0.61333333, 0.45777778, 0.63111111,\n",
       "       0.68      , 0.83111111, 0.82666667, 0.71555556, 0.59111111,\n",
       "       0.64      , 0.85333333, 0.64444444, 0.46444444, 0.42222222,\n",
       "       0.73333333, 0.49333333, 0.53777778, 0.63555556, 0.70666667,\n",
       "       0.67555556, 0.47111111, 0.82222222, 0.60888889, 0.6       ,\n",
       "       0.79111111, 0.50222222, 0.46666667, 0.77777778, 0.48      ,\n",
       "       0.30666667, 0.78222222, 0.64888889, 0.66666667, 0.52888889])"
      ]
     },
     "execution_count": 397,
     "metadata": {},
     "output_type": "execute_result"
    }
   ],
   "source": [
    "gini"
   ]
  }
 ],
 "metadata": {
  "kernelspec": {
   "display_name": "Environment (conda_python3)",
   "language": "python",
   "name": "conda_python3"
  },
  "language_info": {
   "codemirror_mode": {
    "name": "ipython",
    "version": 3
   },
   "file_extension": ".py",
   "mimetype": "text/x-python",
   "name": "python",
   "nbconvert_exporter": "python",
   "pygments_lexer": "ipython3",
   "version": "3.6.5"
  }
 },
 "nbformat": 4,
 "nbformat_minor": 2
}
