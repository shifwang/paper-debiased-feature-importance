{
 "cells": [
  {
   "cell_type": "code",
   "execution_count": 22,
   "metadata": {},
   "outputs": [],
   "source": [
    "import shap\n",
    "import pandas as pd\n",
    "import scipy as sp\n",
    "import numpy as np\n",
    "from irf.ensemble import wrf\n",
    "from sklearn.ensemble import RandomForestClassifier as rfc\n",
    "from sklearn.preprocessing import LabelEncoder, OneHotEncoder, LabelBinarizer\n",
    "from sklearn.metrics import accuracy_score, roc_auc_score, f1_score\n",
    "import matplotlib.pyplot as plt\n",
    "from treeinterpreter.feature_importance import feature_importance as FI\n",
    "from treeinterpreter.feature_importance import MDA"
   ]
  },
  {
   "cell_type": "markdown",
   "metadata": {},
   "source": [
    "# Compare different methods in terms of feature selection using simulated data"
   ]
  },
  {
   "cell_type": "markdown",
   "metadata": {},
   "source": [
    "### load data"
   ]
  },
  {
   "cell_type": "code",
   "execution_count": 23,
   "metadata": {},
   "outputs": [],
   "source": [
    "X_train = np.loadtxt('../intermediate/02_enhancer/X_train.csv', delimiter=',')\n",
    "y_train = np.loadtxt('../intermediate/02_enhancer/y_train.csv', delimiter=',')\n",
    "X_test = np.loadtxt('../intermediate/02_enhancer/X_test.csv', delimiter=',')\n",
    "y_test = np.loadtxt('../intermediate/02_enhancer/y_test.csv', delimiter=',')\n",
    "n, m = X_train.shape\n",
    "names = np.arange(m)"
   ]
  },
  {
   "cell_type": "code",
   "execution_count": 24,
   "metadata": {},
   "outputs": [],
   "source": [
    "def sigmoid(x):\n",
    "    x *= 1\n",
    "    return np.exp(x) / (np.exp(x) + np.exp(-x))\n",
    "def permute(X):\n",
    "    tmp = X.copy()\n",
    "    for j in range(X.shape[1]):\n",
    "        tmp[:, j] = np.random.permutation(sp.stats.rankdata(tmp[:, j]))\n",
    "        maximum = max(tmp[:, j])\n",
    "        tmp[:, j] = tmp[:, j] / maximum - .5\n",
    "    return tmp\n",
    "def rankdata(X):\n",
    "    tmp = X.copy()\n",
    "    for j in range(X.shape[1]):\n",
    "        #tmp[:, j] = np.random.permutation(sp.stats.rankdata(tmp[:, j]))\n",
    "        maximum = max(tmp[:, j])\n",
    "        tmp[:, j] = tmp[:, j] / maximum - .5\n",
    "    return tmp\n",
    "def f(X, noisy_features):\n",
    "    probs = sigmoid(np.mean(X[:, noisy_features == 0], 1) )\n",
    "    return np.array([np.random.choice([0, 1], 1, p=[1 - prob, prob]) for prob in probs]).flatten()"
   ]
  },
  {
   "cell_type": "code",
   "execution_count": 25,
   "metadata": {},
   "outputs": [],
   "source": [
    "n_features = X_train.shape[1]\n",
    "X_train = permute(X_train)\n",
    "X_test = permute(X_test)\n",
    "n, m = X_train.shape\n",
    "names = np.arange(m)\n",
    "noisy_features = np.ones((n_features, ), dtype=int)\n",
    "noisy_features[np.random.choice(range(n_features), 5, replace=False)] = 0\n",
    "y_train = f(X_train, noisy_features)\n",
    "y_test = f(X_test, noisy_features)"
   ]
  },
  {
   "cell_type": "markdown",
   "metadata": {},
   "source": [
    "### save intermediate"
   ]
  },
  {
   "cell_type": "code",
   "execution_count": 27,
   "metadata": {},
   "outputs": [],
   "source": [
    "np.savetxt('../intermediate/02_enhancer/permuted1_X_train.csv', X_train, delimiter=',')\n",
    "np.savetxt('../intermediate/02_enhancer/permuted1_y_train.csv', y_train, delimiter=',')\n",
    "np.savetxt('../intermediate/02_enhancer/permuted1_X_test.csv', X_test, delimiter=',')\n",
    "np.savetxt('../intermediate/02_enhancer/permuted1_y_test.csv', y_test, delimiter=',')\n",
    "np.savetxt('../intermediate/02_enhancer/permuted1_noisy_features.csv', noisy_features, delimiter=',')"
   ]
  },
  {
   "cell_type": "markdown",
   "metadata": {},
   "source": [
    "### Train RF"
   ]
  },
  {
   "cell_type": "code",
   "execution_count": 789,
   "metadata": {},
   "outputs": [],
   "source": [
    "rf = rfc(n_estimators=100, max_features=8, max_depth=100)\n",
    "rf.fit(X_train, y_train)\n",
    "gini_imp = rf.feature_importances_"
   ]
  },
  {
   "cell_type": "markdown",
   "metadata": {},
   "source": [
    "- accuracy"
   ]
  },
  {
   "cell_type": "code",
   "execution_count": 790,
   "metadata": {},
   "outputs": [
    {
     "name": "stdout",
     "output_type": "stream",
     "text": [
      "accuracy of RF is 0.528\n"
     ]
    }
   ],
   "source": [
    "print('accuracy of RF is {0:.3f}'.format(accuracy_score(y_true=y_test, y_pred=rf.predict(X_test))))"
   ]
  },
  {
   "cell_type": "markdown",
   "metadata": {},
   "source": [
    "- Plot feature importance"
   ]
  },
  {
   "cell_type": "code",
   "execution_count": 791,
   "metadata": {},
   "outputs": [
    {
     "data": {
      "image/png": "[encoded data removed]",
      "text/plain": [
       "<Figure size 432x288 with 1 Axes>"
      ]
     },
     "metadata": {},
     "output_type": "display_data"
    }
   ],
   "source": [
    "noisy_features = np.array([int(x) for x in noisy_features])\n",
    "colors = np.array(['red', 'blue'])[noisy_features]\n",
    "plt.bar(x = np.arange(X_train.shape[1]), height = gini_imp, color = colors)\n",
    "plt.show()"
   ]
  },
  {
   "cell_type": "markdown",
   "metadata": {},
   "source": [
    "### prune features based on their importance measures"
   ]
  },
  {
   "cell_type": "markdown",
   "metadata": {},
   "source": [
    "- classic gini importance"
   ]
  },
  {
   "cell_type": "markdown",
   "metadata": {},
   "source": [
    "     - plot the gini importance"
   ]
  },
  {
   "cell_type": "code",
   "execution_count": 792,
   "metadata": {},
   "outputs": [
    {
     "data": {
      "image/png": "[encoded data removed]",
      "text/plain": [
       "<Figure size 432x288 with 1 Axes>"
      ]
     },
     "metadata": {},
     "output_type": "display_data"
    }
   ],
   "source": [
    "ix = np.argsort(gini_imp * -1)\n",
    "plt.bar(x = list(range(m)), height = gini_imp[ix], color = colors[ix])\n",
    "plt.xticks(list(range(m)), np.array(names)[ix], rotation='vertical')\n",
    "plt.show()"
   ]
  },
  {
   "cell_type": "markdown",
   "metadata": {},
   "source": [
    "- debiased gini importance"
   ]
  },
  {
   "cell_type": "code",
   "execution_count": 793,
   "metadata": {},
   "outputs": [],
   "source": [
    "y_train_one_hot = OneHotEncoder().fit_transform(y_train[:, np.newaxis]).todense()"
   ]
  },
  {
   "cell_type": "code",
   "execution_count": 794,
   "metadata": {},
   "outputs": [],
   "source": [
    "debiased_fi_mean, debiased_fi_std = FI(rf, X_train, y_train_one_hot, type='oob', normalized=False)"
   ]
  },
  {
   "cell_type": "markdown",
   "metadata": {},
   "source": [
    "    - plot debiased gini importance"
   ]
  },
  {
   "cell_type": "code",
   "execution_count": 795,
   "metadata": {},
   "outputs": [
    {
     "data": {
      "image/png": "[encoded data removed]",
      "text/plain": [
       "<Figure size 432x288 with 1 Axes>"
      ]
     },
     "metadata": {},
     "output_type": "display_data"
    }
   ],
   "source": [
    "debiased_imp = debiased_fi_mean\n",
    "ix = np.argsort(debiased_imp * -1)\n",
    "plt.bar(x = list(range(m)), height = debiased_imp[ix], color=colors[ix])\n",
    "plt.xticks(list(range(m)), np.array(names)[ix], rotation='vertical')\n",
    "plt.show()"
   ]
  },
  {
   "cell_type": "markdown",
   "metadata": {},
   "source": [
    "- MDA"
   ]
  },
  {
   "cell_type": "code",
   "execution_count": 796,
   "metadata": {},
   "outputs": [
    {
     "data": {
      "image/png": "[encoded data removed]",
      "text/plain": [
       "<Figure size 432x288 with 1 Axes>"
      ]
     },
     "metadata": {},
     "output_type": "display_data"
    }
   ],
   "source": [
    "MDA_imp, _ = MDA(rf, X_test, y_test[:, np.newaxis], type='test', n_trials=10)\n",
    "#MDA_imp[MDA_imp < 0] = 0\n",
    "ix = np.argsort(MDA_imp * -1)\n",
    "plt.bar(x = list(range(m)), height = MDA_imp[ix], color=colors[ix])\n",
    "plt.xticks(list(range(m)), np.array(names)[ix], rotation='vertical')\n",
    "plt.show()"
   ]
  },
  {
   "cell_type": "markdown",
   "metadata": {},
   "source": [
    "- tree SHAP"
   ]
  },
  {
   "cell_type": "code",
   "execution_count": 797,
   "metadata": {},
   "outputs": [
    {
     "data": {
      "image/png": "[encoded data removed]",
      "text/plain": [
       "<Figure size 576x684 with 1 Axes>"
      ]
     },
     "metadata": {},
     "output_type": "display_data"
    }
   ],
   "source": [
    "explainer = shap.TreeExplainer(rf)\n",
    "samples = np.random.choice(range(X_train.shape[0]), 100)\n",
    "shap_values = explainer.shap_values(X_train[samples, :])\n",
    "shap.summary_plot(shap_values, X_train[samples, :], plot_type=\"bar\")"
   ]
  },
  {
   "cell_type": "code",
   "execution_count": 798,
   "metadata": {},
   "outputs": [
    {
     "data": {
      "image/png": "[encoded data removed]",
      "text/plain": [
       "<Figure size 432x288 with 1 Axes>"
      ]
     },
     "metadata": {},
     "output_type": "display_data"
    }
   ],
   "source": [
    "shap_imp = np.mean(abs(shap_values[0]), 0) + np.mean(abs(shap_values[1]), 0)\n",
    "ix = np.argsort(shap_imp * -1)\n",
    "plt.bar(x = list(range(m)), height = shap_imp[ix], color=colors[ix])\n",
    "plt.xticks(list(range(m)), np.array(names)[ix], rotation='vertical')\n",
    "plt.show()"
   ]
  },
  {
   "cell_type": "markdown",
   "metadata": {},
   "source": [
    "### Comparison"
   ]
  },
  {
   "cell_type": "code",
   "execution_count": 799,
   "metadata": {},
   "outputs": [],
   "source": [
    "debiased_imp[debiased_imp < 0] = 0\n",
    "MDA_imp[MDA_imp < 0] = 0"
   ]
  },
  {
   "cell_type": "code",
   "execution_count": 800,
   "metadata": {},
   "outputs": [
    {
     "data": {
      "text/plain": [
       "0.9386666666666666"
      ]
     },
     "execution_count": 800,
     "metadata": {},
     "output_type": "execute_result"
    }
   ],
   "source": [
    "roc_auc_score(noisy_features, - debiased_imp)"
   ]
  },
  {
   "cell_type": "code",
   "execution_count": 801,
   "metadata": {},
   "outputs": [
    {
     "data": {
      "text/plain": [
       "0.7066666666666667"
      ]
     },
     "execution_count": 801,
     "metadata": {},
     "output_type": "execute_result"
    }
   ],
   "source": [
    "roc_auc_score(noisy_features, - gini_imp)"
   ]
  },
  {
   "cell_type": "code",
   "execution_count": 802,
   "metadata": {},
   "outputs": [
    {
     "data": {
      "text/plain": [
       "0.808"
      ]
     },
     "execution_count": 802,
     "metadata": {},
     "output_type": "execute_result"
    }
   ],
   "source": [
    "roc_auc_score(noisy_features, - shap_imp)"
   ]
  },
  {
   "cell_type": "code",
   "execution_count": 803,
   "metadata": {},
   "outputs": [
    {
     "data": {
      "text/plain": [
       "0.8346666666666667"
      ]
     },
     "execution_count": 803,
     "metadata": {},
     "output_type": "execute_result"
    }
   ],
   "source": [
    "roc_auc_score(noisy_features, - MDA_imp)"
   ]
  },
  {
   "cell_type": "markdown",
   "metadata": {},
   "source": [
    "<hr />\n",
    "\n",
    "### summary of the results from .py file"
   ]
  },
  {
   "cell_type": "code",
   "execution_count": 4,
   "metadata": {},
   "outputs": [],
   "source": [
    "tmp = np.load('../intermediate/02_simulation_results.npz')\n",
    "debiased, gini, shap, mda = [tmp[x] for x in list(tmp)]"
   ]
  },
  {
   "cell_type": "code",
   "execution_count": 20,
   "metadata": {},
   "outputs": [],
   "source": [
    "out = np.array([debiased, shap, mda, gini]).T"
   ]
  },
  {
   "cell_type": "code",
   "execution_count": 21,
   "metadata": {},
   "outputs": [
    {
     "data": {
      "image/png": "[encoded data removed]",
      "text/plain": [
       "<Figure size 432x288 with 1 Axes>"
      ]
     },
     "metadata": {},
     "output_type": "display_data"
    }
   ],
   "source": [
    "plt.boxplot(out)\n",
    "plt.xticks(list(range(1, 5)), ['debiased', 'shap', 'mda', 'gini'])\n",
    "plt.show()"
   ]
  },
  {
   "cell_type": "code",
   "execution_count": null,
   "metadata": {},
   "outputs": [],
   "source": []
  }
 ],
 "metadata": {
  "kernelspec": {
   "display_name": "Environment (conda_python3)",
   "language": "python",
   "name": "conda_python3"
  },
  "language_info": {
   "codemirror_mode": {
    "name": "ipython",
    "version": 3
   },
   "file_extension": ".py",
   "mimetype": "text/x-python",
   "name": "python",
   "nbconvert_exporter": "python",
   "pygments_lexer": "ipython3",
   "version": "3.6.5"
  }
 },
 "nbformat": 4,
 "nbformat_minor": 2
}
