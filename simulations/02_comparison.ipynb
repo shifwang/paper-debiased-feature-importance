{
 "cells": [
  {
   "cell_type": "code",
   "execution_count": 2,
   "metadata": {},
   "outputs": [
    {
     "name": "stderr",
     "output_type": "stream",
     "text": [
      "/home/ubuntu/anaconda3/envs/python3/lib/python3.6/site-packages/sklearn/ensemble/weight_boosting.py:29: DeprecationWarning: numpy.core.umath_tests is an internal NumPy module and should not be imported. It will be removed in a future NumPy release.\n",
      "  from numpy.core.umath_tests import inner1d\n"
     ]
    }
   ],
   "source": [
    "import shap\n",
    "import pandas as pd\n",
    "import scipy as sp\n",
    "import numpy as np\n",
    "from irf.ensemble import wrf\n",
    "from sklearn.ensemble import RandomForestClassifier as rfc\n",
    "from sklearn.preprocessing import LabelEncoder, OneHotEncoder, LabelBinarizer, MinMaxScaler\n",
    "from sklearn.metrics import accuracy_score, roc_auc_score, f1_score\n",
    "import matplotlib.pyplot as plt\n",
    "from treeinterpreter.feature_importance import feature_importance as FI\n",
    "from treeinterpreter.feature_importance import MDA"
   ]
  },
  {
   "cell_type": "code",
   "execution_count": 75,
   "metadata": {},
   "outputs": [],
   "source": [
    "a = rf.estimators_[0].tree_"
   ]
  },
  {
   "cell_type": "code",
   "execution_count": 79,
   "metadata": {},
   "outputs": [],
   "source": [
    "tmp = copy.deepcopy(a.value.squeeze(axis=1))\n",
    "node_previous_mean = tmp / np.sum(tmp, 1)[:, np.newaxis]"
   ]
  },
  {
   "cell_type": "code",
   "execution_count": 80,
   "metadata": {},
   "outputs": [
    {
     "data": {
      "text/plain": [
       "array([[0.45143149, 0.54856851],\n",
       "       [0.60569106, 0.39430894],\n",
       "       [0.65944272, 0.34055728],\n",
       "       ...,\n",
       "       [0.16666667, 0.83333333],\n",
       "       [1.        , 0.        ],\n",
       "       [0.        , 1.        ]])"
      ]
     },
     "execution_count": 80,
     "metadata": {},
     "output_type": "execute_result"
    }
   ],
   "source": [
    "node_previous_mean"
   ]
  },
  {
   "cell_type": "code",
   "execution_count": 81,
   "metadata": {},
   "outputs": [],
   "source": [
    "node_sample_size = a.weighted_n_node_samples\n",
    "lc = copy.deepcopy(a.children_left)\n",
    "rc = copy.deepcopy(a.children_right)\n",
    "tmp = (lc == -1)\n",
    "lc[tmp] = 0\n",
    "rc[tmp] = 0\n",
    "#decrease = node_impurity * node_sample_size - node_impurity[lc] * node_sample_size[lc] - node_impurity[rc] * node_sample_size[rc]\n",
    "decrease = np.sum( (node_previous_mean - node_previous_mean[lc]) ** 2, 1) * node_sample_size[lc] + \\\n",
    "    np.sum((node_previous_mean - node_previous_mean[rc]) ** 2, 1) * node_sample_size[rc]"
   ]
  },
  {
   "cell_type": "code",
   "execution_count": 82,
   "metadata": {},
   "outputs": [
    {
     "data": {
      "text/plain": [
       "array([2.67837904e+01, 5.43368928e+00, 7.06109011e+00, ...,\n",
       "       1.66666667e+00, 4.70891207e+03, 3.18891207e+03])"
      ]
     },
     "execution_count": 82,
     "metadata": {},
     "output_type": "execute_result"
    }
   ],
   "source": [
    "decrease"
   ]
  },
  {
   "cell_type": "code",
   "execution_count": 87,
   "metadata": {},
   "outputs": [],
   "source": [
    "decrease = a.impurity * node_sample_size - a.impurity[lc] * node_sample_size[lc] - a.impurity[rc] * node_sample_size[rc]"
   ]
  },
  {
   "cell_type": "code",
   "execution_count": null,
   "metadata": {},
   "outputs": [],
   "source": [
    "out = np.zeros((X.shape[1], ))\n",
    "out[a.feature[a.feature != -2]] += decrease"
   ]
  },
  {
   "cell_type": "code",
   "execution_count": 105,
   "metadata": {},
   "outputs": [
    {
     "name": "stderr",
     "output_type": "stream",
     "text": [
      "/home/ubuntu/anaconda3/envs/python3/lib/python3.6/site-packages/ipykernel/__main__.py:33: RuntimeWarning: invalid value encountered in true_divide\n"
     ]
    },
    {
     "data": {
      "text/plain": [
       "array([-0.1266692 ,  0.00661685, -0.01537653,  0.0425914 , -0.00853132,\n",
       "       -0.00287694,  0.05018263,  0.10446435, -0.03329086,  0.08139598,\n",
       "        0.04228198,  0.07449149,  0.01563731, -0.00521924,  0.06626316,\n",
       "        0.17890348,  0.00343428,  0.04789609, -0.0117183 ,  0.06015927,\n",
       "        0.06499134, -0.04282093, -0.00673959, -0.01342857, -0.10053781,\n",
       "       -0.05077435,  0.15330077,  0.03983232,  0.02677994,  0.0289067 ,\n",
       "       -0.01214316, -0.0048612 , -0.06381518,  0.03383138,  0.03116533,\n",
       "       -0.06594669,  0.0172968 , -0.0794969 ,  0.0259371 , -0.03533071,\n",
       "        0.01475694, -0.04146031,  0.10549364, -0.02703253, -0.08870319,\n",
       "        0.00341365,  0.        ,  0.02718954, -0.05173401, -0.03500613,\n",
       "       -0.0187037 , -0.02058583,  0.        ,  0.00857143, -0.12607695,\n",
       "        0.10525299,  0.02877043, -0.01104088,  0.01454686,  0.06425089,\n",
       "        0.        ,  0.        ,  0.00415476, -0.09834514,  0.05586088,\n",
       "        0.01266872, -0.02303531, -0.00326531, -0.02971507, -0.00821678,\n",
       "        0.03555124,  0.        ,  0.        , -0.02864353, -0.0195    ,\n",
       "       -0.08790623,  0.013125  ,  0.007019  ,  0.05005325, -0.02294374])"
      ]
     },
     "execution_count": 105,
     "metadata": {},
     "output_type": "execute_result"
    }
   ],
   "source": [
    "from sklearn.ensemble.forest import _generate_unsampled_indices, _generate_sample_indices\n",
    "#from sklearn.metrics import accuracy_score, mean_squared_error\n",
    "#from sklearn.preprocessing import OneHotEncoder\n",
    "import sklearn\n",
    "#import numpy as np\n",
    "import copy\n",
    "\n",
    "def OOB_MDI(rf, X, y, is_classification = True, min_samples = 2):\n",
    "\n",
    "    n_samples, n_features = X.shape\n",
    "\n",
    "    # change X to np.float32\n",
    "    XX = X.copy().astype(np.float32)\n",
    "\n",
    "    # infer y.shape\n",
    "    if len(y.shape) == 1:\n",
    "        yy = y[:, np.newaxis]\n",
    "    if is_classification:\n",
    "        yy = OneHotEncoder().fit_transform(yy)\n",
    "\n",
    "    if not rf.bootstrap:\n",
    "        raise ValueError('Without bootstrap, it is not possible to calculate oob.')\n",
    "\n",
    "    out = np.zeros((n_features,))\n",
    "    for tree in rf.estimators_:\n",
    "\n",
    "        indices = _generate_unsampled_indices(tree.random_state, n_samples)\n",
    "        \n",
    "        decision_paths = np.array(tree.tree_.decision_path(XX[indices, : ]).todense())\n",
    "        node_count = decision_paths.shape[1]\n",
    "        \n",
    "        # compute the impurity at each node\n",
    "        node_mean = (decision_paths / np.sum(decision_paths, 0)[np.newaxis, :]).T @ yy[indices, :] \n",
    "        tmp = copy.deepcopy(tree.tree_.value.squeeze(axis=1))\n",
    "\n",
    "        if is_classification:\n",
    "            node_previous_mean = tmp / np.sum(tmp, 1)[:, np.newaxis]\n",
    "        else:\n",
    "            node_previous_mean = tmp\n",
    "        \n",
    "        #node_impurity = np.sum(node_mean * node_previous_mean, 1) \n",
    "        #node_impurity = np.tensordot(\n",
    "        #print()\n",
    "        \n",
    "        # compute the impurity decrease at each node\n",
    "        node_sample_size = tree.tree_.weighted_n_node_samples\n",
    "        lc = copy.deepcopy(tree.tree_.children_left)\n",
    "        rc = copy.deepcopy(tree.tree_.children_right)\n",
    "        tmp = (lc == -1)\n",
    "        lc[tmp] = 0\n",
    "        rc[tmp] = 0\n",
    "        #decrease = node_impurity * node_sample_size - node_impurity[lc] * node_sample_size[lc] - node_impurity[rc] * node_sample_size[rc]\n",
    "        decrease = np.sum((node_mean - node_mean[lc]) * (node_previous_mean - node_previous_mean[lc]), 1) * node_sample_size[lc] + \\\n",
    "            np.sum((node_mean - node_mean[rc]) * (node_previous_mean - node_previous_mean[rc]), 1) * node_sample_size[rc]\n",
    "        feature = tree.tree_.feature\n",
    "        decrease[feature == -2] = np.nan\n",
    "        decrease[np.sum(decision_paths, 0) < min_samples] = np.nan\n",
    "        tmp = np.logical_not(np.isnan(decrease))\n",
    "        for i in range(len(tmp)):\n",
    "            if tmp[i]:\n",
    "                out[feature[i]] += decrease[i]\n",
    "        break\n",
    "    out /= rf.n_estimators\n",
    "    return out\n",
    "OOB_MDI(rf, X_train, y_train)"
   ]
  },
  {
   "cell_type": "markdown",
   "metadata": {},
   "source": [
    "# Compare different methods in terms of feature selection using simulated data"
   ]
  },
  {
   "cell_type": "markdown",
   "metadata": {},
   "source": [
    "### load data"
   ]
  },
  {
   "cell_type": "code",
   "execution_count": 3,
   "metadata": {},
   "outputs": [],
   "source": [
    "X_train = np.loadtxt('../intermediate/02_enhancer/X_train.csv', delimiter=',')\n",
    "y_train = np.loadtxt('../intermediate/02_enhancer/y_train.csv', delimiter=',')\n",
    "X_test = np.loadtxt('../intermediate/02_enhancer/X_test.csv', delimiter=',')\n",
    "y_test = np.loadtxt('../intermediate/02_enhancer/y_test.csv', delimiter=',')\n",
    "n, m = X_train.shape\n",
    "names = np.arange(m)"
   ]
  },
  {
   "cell_type": "code",
   "execution_count": 4,
   "metadata": {},
   "outputs": [],
   "source": [
    "def sigmoid(x):\n",
    "    x *= 1\n",
    "    return np.exp(x) / (np.exp(x) + np.exp(-x))\n",
    "def permute(X, noisy_features):\n",
    "    tmp = X.copy()\n",
    "    for j in range(X.shape[1]):\n",
    "        if noisy_features[j] == 1:\n",
    "            tmp[:, j] = np.random.permutation(tmp[:, j])\n",
    "    return tmp\n",
    "#def rankdata(X):\n",
    "#    tmp = X.copy()\n",
    "#    for j in range(X.shape[1]):\n",
    "#        #tmp[:, j] = np.random.permutation(sp.stats.rankdata(tmp[:, j]))\n",
    "#        maximum = max(tmp[:, j])\n",
    "#        tmp[:, j] = tmp[:, j] / maximum \n",
    "#    return tmp\n",
    "def f(X, noisy_features):\n",
    "    probs = sigmoid(np.mean(X[:, noisy_features == 0], 1) * 2 - .5)\n",
    "    return np.array([np.random.choice([0, 1], 1, p=[1 - prob, prob]) for prob in probs]).flatten()"
   ]
  },
  {
   "cell_type": "code",
   "execution_count": 5,
   "metadata": {},
   "outputs": [],
   "source": [
    "n_features = X_train.shape[1]\n",
    "n, m = X_train.shape\n",
    "names = np.arange(m)\n",
    "noisy_features = np.ones((n_features, ), dtype=int)\n",
    "noisy_features[np.random.choice(range(n_features), 5, replace=False)] = 0\n",
    "scaler = MinMaxScaler()\n",
    "X_train = scaler.fit_transform(X_train)\n",
    "X_test = scaler.transform(X_test)\n",
    "X_train = permute(X_train, noisy_features)\n",
    "X_test = permute(X_test, noisy_features)\n",
    "y_train = f(X_train, noisy_features)\n",
    "y_test = f(X_test, noisy_features)\n"
   ]
  },
  {
   "cell_type": "markdown",
   "metadata": {},
   "source": [
    "### save intermediate"
   ]
  },
  {
   "cell_type": "code",
   "execution_count": 15,
   "metadata": {},
   "outputs": [],
   "source": [
    "np.savetxt('../intermediate/02_enhancer/permuted1_X_train.csv', X_train, delimiter=',')\n",
    "np.savetxt('../intermediate/02_enhancer/permuted1_y_train.csv', y_train, delimiter=',')\n",
    "np.savetxt('../intermediate/02_enhancer/permuted1_X_test.csv', X_test, delimiter=',')\n",
    "np.savetxt('../intermediate/02_enhancer/permuted1_y_test.csv', y_test, delimiter=',')\n",
    "np.savetxt('../intermediate/02_enhancer/permuted1_noisy_features.csv', noisy_features, delimiter=',')"
   ]
  },
  {
   "cell_type": "markdown",
   "metadata": {},
   "source": [
    "### Train RF"
   ]
  },
  {
   "cell_type": "code",
   "execution_count": 6,
   "metadata": {},
   "outputs": [],
   "source": [
    "rf = rfc(n_estimators=100, max_features=8, max_depth=100)\n",
    "rf.fit(X_train, y_train)\n",
    "gini_imp = rf.feature_importances_"
   ]
  },
  {
   "cell_type": "markdown",
   "metadata": {},
   "source": [
    "- accuracy"
   ]
  },
  {
   "cell_type": "code",
   "execution_count": 7,
   "metadata": {},
   "outputs": [
    {
     "name": "stdout",
     "output_type": "stream",
     "text": [
      "accuracy of RF is 0.520\n"
     ]
    }
   ],
   "source": [
    "print('accuracy of RF is {0:.3f}'.format(accuracy_score(y_true=y_test, y_pred=rf.predict(X_test))))"
   ]
  },
  {
   "cell_type": "markdown",
   "metadata": {},
   "source": [
    "- Plot feature importance"
   ]
  },
  {
   "cell_type": "code",
   "execution_count": 8,
   "metadata": {},
   "outputs": [
    {
     "data": {
      "image/png": "[encoded data removed]",
      "text/plain": [
       "<Figure size 432x288 with 1 Axes>"
      ]
     },
     "metadata": {},
     "output_type": "display_data"
    }
   ],
   "source": [
    "noisy_features = np.array([int(x) for x in noisy_features])\n",
    "colors = np.array(['red', 'blue'])[noisy_features]\n",
    "plt.bar(x = np.arange(X_train.shape[1]), height = gini_imp, color = colors)\n",
    "plt.show()"
   ]
  },
  {
   "cell_type": "markdown",
   "metadata": {},
   "source": [
    "### prune features based on their importance measures"
   ]
  },
  {
   "cell_type": "markdown",
   "metadata": {},
   "source": [
    "- classic gini importance"
   ]
  },
  {
   "cell_type": "markdown",
   "metadata": {},
   "source": [
    "     - plot the gini importance"
   ]
  },
  {
   "cell_type": "code",
   "execution_count": 9,
   "metadata": {},
   "outputs": [
    {
     "data": {
      "image/png": "[encoded data removed]",
      "text/plain": [
       "<Figure size 432x288 with 1 Axes>"
      ]
     },
     "metadata": {},
     "output_type": "display_data"
    }
   ],
   "source": [
    "ix = np.argsort(gini_imp * -1)\n",
    "plt.bar(x = list(range(m)), height = gini_imp[ix], color = colors[ix])\n",
    "#plt.xticks(list(range(m)), np.array(names)[ix], rotation='vertical')\n",
    "plt.show()"
   ]
  },
  {
   "cell_type": "markdown",
   "metadata": {},
   "source": [
    "- debiased gini importance"
   ]
  },
  {
   "cell_type": "code",
   "execution_count": 108,
   "metadata": {},
   "outputs": [
    {
     "name": "stderr",
     "output_type": "stream",
     "text": [
      "/home/ubuntu/anaconda3/envs/python3/lib/python3.6/site-packages/ipykernel/__main__.py:33: RuntimeWarning: invalid value encountered in true_divide\n"
     ]
    }
   ],
   "source": [
    "debiased_fi_mean = OOB_MDI(rf, X_train, y_train, min_samples=40)"
   ]
  },
  {
   "cell_type": "code",
   "execution_count": 95,
   "metadata": {},
   "outputs": [],
   "source": [
    "y_train_one_hot = OneHotEncoder().fit_transform(y_train[:, np.newaxis]).todense()"
   ]
  },
  {
   "cell_type": "code",
   "execution_count": 96,
   "metadata": {},
   "outputs": [],
   "source": [
    "debiased_fi_mean, debiased_fi_std = FI(rf, X_train, y_train_one_hot, type='oob', normalized=False, balanced = False)"
   ]
  },
  {
   "cell_type": "markdown",
   "metadata": {},
   "source": [
    "    - plot debiased gini importance"
   ]
  },
  {
   "cell_type": "code",
   "execution_count": 109,
   "metadata": {},
   "outputs": [
    {
     "data": {
      "image/png": "[encoded data removed]",
      "text/plain": [
       "<Figure size 432x288 with 1 Axes>"
      ]
     },
     "metadata": {},
     "output_type": "display_data"
    }
   ],
   "source": [
    "debiased_imp = debiased_fi_mean\n",
    "ix = np.argsort(debiased_imp * -1)\n",
    "plt.bar(x = list(range(m)), height = debiased_imp[ix], color=colors[ix])\n",
    "#plt.xticks(list(range(m)), np.array(names)[ix], rotation='vertical')\n",
    "plt.show()"
   ]
  },
  {
   "cell_type": "markdown",
   "metadata": {},
   "source": [
    "- MDA"
   ]
  },
  {
   "cell_type": "code",
   "execution_count": null,
   "metadata": {},
   "outputs": [],
   "source": [
    "MDA_imp, _ = MDA(rf, X_test, y_test[:, np.newaxis], type='test', n_trials=10)\n",
    "#MDA_imp[MDA_imp < 0] = 0\n",
    "ix = np.argsort(MDA_imp * -1)\n",
    "plt.bar(x = list(range(m)), height = MDA_imp[ix], color=colors[ix])\n",
    "plt.xticks(list(range(m)), np.array(names)[ix], rotation='vertical')\n",
    "plt.show()"
   ]
  },
  {
   "cell_type": "markdown",
   "metadata": {},
   "source": [
    "- tree SHAP"
   ]
  },
  {
   "cell_type": "code",
   "execution_count": 14,
   "metadata": {},
   "outputs": [
    {
     "data": {
      "image/png": "[encoded data removed]",
      "text/plain": [
       "<Figure size 576x684 with 1 Axes>"
      ]
     },
     "metadata": {},
     "output_type": "display_data"
    }
   ],
   "source": [
    "explainer = shap.TreeExplainer(rf)\n",
    "samples = np.random.choice(range(X_train.shape[0]), 100)\n",
    "shap_values = explainer.shap_values(X_train[samples, :])\n",
    "shap.summary_plot(shap_values, X_train[samples, :], plot_type=\"bar\")"
   ]
  },
  {
   "cell_type": "code",
   "execution_count": 15,
   "metadata": {},
   "outputs": [
    {
     "data": {
      "image/png": "[encoded data removed]",
      "text/plain": [
       "<Figure size 432x288 with 1 Axes>"
      ]
     },
     "metadata": {},
     "output_type": "display_data"
    }
   ],
   "source": [
    "shap_imp = np.mean(abs(shap_values[0]), 0) + np.mean(abs(shap_values[1]), 0)\n",
    "ix = np.argsort(shap_imp * -1)\n",
    "plt.bar(x = list(range(m)), height = shap_imp[ix], color=colors[ix])\n",
    "plt.xticks(list(range(m)), np.array(names)[ix], rotation='vertical')\n",
    "plt.show()"
   ]
  },
  {
   "cell_type": "markdown",
   "metadata": {},
   "source": [
    "### Comparison"
   ]
  },
  {
   "cell_type": "code",
   "execution_count": 16,
   "metadata": {},
   "outputs": [
    {
     "ename": "NameError",
     "evalue": "name 'MDA_imp' is not defined",
     "output_type": "error",
     "traceback": [
      "\u001b[0;31m---------------------------------------------------------------------------\u001b[0m",
      "\u001b[0;31mNameError\u001b[0m                                 Traceback (most recent call last)",
      "\u001b[0;32m<ipython-input-16-d52983865182>\u001b[0m in \u001b[0;36m<module>\u001b[0;34m()\u001b[0m\n\u001b[1;32m      1\u001b[0m \u001b[0mdebiased_imp\u001b[0m\u001b[0;34m[\u001b[0m\u001b[0mdebiased_imp\u001b[0m \u001b[0;34m<\u001b[0m \u001b[0;36m0\u001b[0m\u001b[0;34m]\u001b[0m \u001b[0;34m=\u001b[0m \u001b[0;36m0\u001b[0m\u001b[0;34m\u001b[0m\u001b[0m\n\u001b[0;32m----> 2\u001b[0;31m \u001b[0mMDA_imp\u001b[0m\u001b[0;34m[\u001b[0m\u001b[0mMDA_imp\u001b[0m \u001b[0;34m<\u001b[0m \u001b[0;36m0\u001b[0m\u001b[0;34m]\u001b[0m \u001b[0;34m=\u001b[0m \u001b[0;36m0\u001b[0m\u001b[0;34m\u001b[0m\u001b[0m\n\u001b[0m",
      "\u001b[0;31mNameError\u001b[0m: name 'MDA_imp' is not defined"
     ]
    }
   ],
   "source": [
    "debiased_imp[debiased_imp < 0] = 0\n",
    "MDA_imp[MDA_imp < 0] = 0"
   ]
  },
  {
   "cell_type": "code",
   "execution_count": 51,
   "metadata": {},
   "outputs": [
    {
     "data": {
      "text/plain": [
       "0.8719999999999999"
      ]
     },
     "execution_count": 51,
     "metadata": {},
     "output_type": "execute_result"
    }
   ],
   "source": [
    "roc_auc_score(noisy_features, - debiased_imp)"
   ]
  },
  {
   "cell_type": "code",
   "execution_count": 18,
   "metadata": {},
   "outputs": [
    {
     "data": {
      "text/plain": [
       "0.5840000000000001"
      ]
     },
     "execution_count": 18,
     "metadata": {},
     "output_type": "execute_result"
    }
   ],
   "source": [
    "roc_auc_score(noisy_features, - gini_imp)"
   ]
  },
  {
   "cell_type": "code",
   "execution_count": 19,
   "metadata": {},
   "outputs": [
    {
     "data": {
      "text/plain": [
       "0.8426666666666667"
      ]
     },
     "execution_count": 19,
     "metadata": {},
     "output_type": "execute_result"
    }
   ],
   "source": [
    "roc_auc_score(noisy_features, - shap_imp)"
   ]
  },
  {
   "cell_type": "code",
   "execution_count": null,
   "metadata": {},
   "outputs": [],
   "source": [
    "roc_auc_score(noisy_features, - MDA_imp)"
   ]
  },
  {
   "cell_type": "markdown",
   "metadata": {},
   "source": [
    "<hr />\n",
    "\n",
    "### summary of the results from .py file"
   ]
  },
  {
   "cell_type": "code",
   "execution_count": 3,
   "metadata": {},
   "outputs": [],
   "source": [
    "tmp = np.load('../intermediate/02_simulation_results_correlated_regression.npz')\n",
    "debiased, gini, shap, mda = [tmp[x] for x in list(tmp)]"
   ]
  },
  {
   "cell_type": "code",
   "execution_count": 4,
   "metadata": {},
   "outputs": [
    {
     "data": {
      "text/plain": [
       "(array([0.84533333, 0.832     , 0.8       , 0.80533333, 0.59466667,\n",
       "        0.55733333, 0.70666667, 0.79466667, 0.968     , 0.68      ,\n",
       "        0.776     , 0.91733333, 0.688     , 0.51733333, 0.65066667,\n",
       "        0.632     , 0.80266667, 0.688     , 0.77066667, 0.536     ,\n",
       "        0.456     , 0.64266667, 0.656     , 0.79733333, 0.76      ,\n",
       "        0.86933333, 0.84266667, 0.936     , 0.60533333, 0.82933333,\n",
       "        0.824     , 0.80266667, 0.85866667, 0.62666667, 0.656     ,\n",
       "        0.67733333, 0.62133333, 0.94666667, 0.60266667, 0.78666667]),\n",
       " array([0.70933333, 0.86933333, 0.776     , 0.97066667, 0.77066667,\n",
       "        0.65333333, 0.96533333, 0.96      , 0.992     , 0.79466667,\n",
       "        0.936     , 0.992     , 0.81866667, 0.784     , 0.72266667,\n",
       "        0.816     , 0.87733333, 0.73866667, 0.77066667, 0.82666667,\n",
       "        0.89866667, 0.848     , 0.87466667, 0.83466667, 0.84533333,\n",
       "        0.85333333, 0.896     , 0.99466667, 0.75733333, 0.87466667,\n",
       "        0.89066667, 0.896     , 0.76533333, 0.64      , 0.94666667,\n",
       "        0.74666667, 0.936     , 0.98133333, 0.97066667, 1.        ]),\n",
       " array([0.76533333, 0.72266667, 1.        , 1.        , 0.94133333,\n",
       "        0.61866667, 0.95466667, 0.93866667, 1.        , 0.97866667,\n",
       "        0.976     , 0.90666667, 0.98933333, 0.888     , 0.95466667,\n",
       "        0.93333333, 1.        , 0.736     , 0.976     , 0.89466667,\n",
       "        0.9       , 0.92533333, 0.78933333, 0.928     , 0.984     ,\n",
       "        0.896     , 0.94133333, 1.        , 0.76266667, 0.99466667,\n",
       "        0.992     , 0.93066667, 0.78933333, 0.696     , 0.97866667,\n",
       "        0.95733333, 0.88      , 1.        , 0.9       , 1.        ]))"
      ]
     },
     "execution_count": 4,
     "metadata": {},
     "output_type": "execute_result"
    }
   ],
   "source": [
    "tmp2 = pd.read_csv('../intermediate/02_simulation_results_R_correlated_shallow.csv')\n",
    "gini_R, ranger, cforest = np.array(tmp2.iloc[:, 1]), np.array(tmp2.iloc[:, 2]), np.array(tmp2.iloc[:, 3])\n",
    "gini_R, ranger, cforest"
   ]
  },
  {
   "cell_type": "code",
   "execution_count": 100,
   "metadata": {},
   "outputs": [],
   "source": [
    "out = np.array([debiased, shap,ranger, mda, cforest, gini]).T"
   ]
  },
  {
   "cell_type": "code",
   "execution_count": 101,
   "metadata": {},
   "outputs": [
    {
     "data": {
      "image/png": "[encoded data removed]",
      "text/plain": [
       "<Figure size 432x288 with 1 Axes>"
      ]
     },
     "metadata": {},
     "output_type": "display_data"
    }
   ],
   "source": [
    "plt.boxplot(out)\n",
    "plt.xticks(list(range(1, 7)), ['OOB MDI', 'SHAP', 'ranger', 'MDA', 'cforest', 'MDI'])\n",
    "plt.show()"
   ]
  },
  {
   "cell_type": "code",
   "execution_count": 102,
   "metadata": {},
   "outputs": [
    {
     "data": {
      "text/plain": [
       "array([0.9806    , 0.96393333, 0.85486667, 0.95666667, 0.9105    ,\n",
       "       0.73586667])"
      ]
     },
     "execution_count": 102,
     "metadata": {},
     "output_type": "execute_result"
    }
   ],
   "source": [
    "np.mean(out, 0)"
   ]
  }
 ],
 "metadata": {
  "kernelspec": {
   "display_name": "Environment (conda_python3)",
   "language": "python",
   "name": "conda_python3"
  },
  "language_info": {
   "codemirror_mode": {
    "name": "ipython",
    "version": 3
   },
   "file_extension": ".py",
   "mimetype": "text/x-python",
   "name": "python",
   "nbconvert_exporter": "python",
   "pygments_lexer": "ipython3",
   "version": "3.7.4"
  }
 },
 "nbformat": 4,
 "nbformat_minor": 2
}
