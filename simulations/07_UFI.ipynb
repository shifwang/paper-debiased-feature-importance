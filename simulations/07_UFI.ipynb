{
 "cells": [
  {
   "cell_type": "markdown",
   "metadata": {},
   "source": [
    "# Try a new method"
   ]
  },
  {
   "cell_type": "markdown",
   "metadata": {},
   "source": [
    "[link to their github repo](https://github.com/ZhengzeZhou/unbiased-feature-importance)"
   ]
  },
  {
   "cell_type": "code",
   "execution_count": 1,
   "metadata": {},
   "outputs": [
    {
     "name": "stderr",
     "output_type": "stream",
     "text": [
      "/home/ubuntu/anaconda3/envs/python3/lib/python3.6/site-packages/sklearn/ensemble/weight_boosting.py:29: DeprecationWarning: numpy.core.umath_tests is an internal NumPy module and should not be imported. It will be removed in a future NumPy release.\n",
      "  from numpy.core.umath_tests import inner1d\n"
     ]
    }
   ],
   "source": [
    "import shap\n",
    "import pandas as pd\n",
    "import scipy as sp\n",
    "import numpy as np\n",
    "from irf.ensemble import wrf\n",
    "from sklearn.ensemble import RandomForestClassifier as rfc\n",
    "from sklearn.ensemble import RandomForestRegressor as rfr\n",
    "from sklearn.preprocessing import LabelEncoder, OneHotEncoder, LabelBinarizer, MinMaxScaler\n",
    "from sklearn.metrics import accuracy_score, roc_auc_score, f1_score\n",
    "import matplotlib.pyplot as plt\n",
    "from treeinterpreter.feature_importance import feature_importance as FI\n",
    "from treeinterpreter.feature_importance import MDA\n",
    "import sys\n",
    "sys.path += ['../code/']\n",
    "from UFI_wrapper import UFI_importance"
   ]
  },
  {
   "cell_type": "code",
   "execution_count": null,
   "metadata": {},
   "outputs": [
    {
     "name": "stdout",
     "output_type": "stream",
     "text": [
      "working on 1 regression deep\n",
      "0\n",
      "1\n",
      "2\n",
      "3\n"
     ]
    }
   ],
   "source": [
    "### load data\n",
    "\n",
    "num = 2\n",
    "\n",
    "problem = [0]\n",
    "tree_depth = [1]\n",
    "for num in range(1, 3):\n",
    "    for problem in ['classification', 'regression']:\n",
    "        for tree_depth in ['deep', 'shallow']:\n",
    "            #if tree_depth == 'deep':\n",
    "            #    continue\n",
    "            if not (num == 1 and tree_depth == 'deep' and problem == 'regression'):\n",
    "                continue\n",
    "            print('working on {} {} {}'.format(num, problem, tree_depth))\n",
    "            gini_list, ufi_list = [], []\n",
    "            for i in range(40):\n",
    "                print(i)\n",
    "                X_train = np.loadtxt('../intermediate/04_aggregate/{}{}/permuted{}_X_train.csv'.format(problem, num, i), delimiter=',')\n",
    "                y_train = np.loadtxt('../intermediate/04_aggregate/{}{}/permuted{}_y_train.csv'.format(problem, num, i), delimiter=',')\n",
    "                X_test = np.loadtxt('../intermediate/04_aggregate/{}{}/permuted{}_X_test.csv'.format(problem, num, i), delimiter=',')\n",
    "                y_test = np.loadtxt('../intermediate/04_aggregate/{}{}/permuted{}_y_test.csv'.format(problem, num, i), delimiter=',')\n",
    "                noisy_features = np.loadtxt('../intermediate/04_aggregate/{}{}/permuted{}_noisy_features.csv'.format(problem, num, i), delimiter=',').astype(np.int)\n",
    "                n_features = len(noisy_features)\n",
    "\n",
    "                ### Train RF\n",
    "                if problem == 'classification':\n",
    "                    if tree_depth == 'deep':\n",
    "                        rf = rfc(n_estimators=100, max_features=10, min_samples_leaf=1)\n",
    "                    else:\n",
    "                        rf = rfc(n_estimators=100, max_features=10, min_samples_leaf=100)\n",
    "                else:\n",
    "                    if tree_depth == 'deep':\n",
    "                        rf = rfr(n_estimators=100, max_features= 10, min_samples_leaf=1)\n",
    "                    else:\n",
    "                        rf = rfr(n_estimators=100, max_features= 10, min_samples_leaf=100)\n",
    "                rf.fit(X_train, y_train)\n",
    "                gini_imp = rf.feature_importances_\n",
    "                ufi_imp = UFI_importance(rf, X_train, y_train)\n",
    "                ufi_imp[ufi_imp < 0] = 0\n",
    "                gini_list.append(roc_auc_score(noisy_features, - gini_imp))\n",
    "                ufi_list.append(roc_auc_score(noisy_features, - ufi_imp))\n",
    "                \n",
    "            np.savez('../intermediate/04_aggregate/{}{}/add_new_results_{}.npz'.format(problem, num, tree_depth), gini_list=gini_list, ufi_list=ufi_list)\n"
   ]
  },
  {
   "cell_type": "code",
   "execution_count": 27,
   "metadata": {},
   "outputs": [],
   "source": [
    "problem = 'classification'\n",
    "tree_depth = 'deep'\n",
    "num = 2\n",
    "i = 0\n",
    "X_train = np.loadtxt('../intermediate/04_aggregate/{}{}/permuted{}_X_train.csv'.format(problem, num, i), delimiter=',')\n",
    "y_train = np.loadtxt('../intermediate/04_aggregate/{}{}/permuted{}_y_train.csv'.format(problem, num, i), delimiter=',')\n",
    "X_test = np.loadtxt('../intermediate/04_aggregate/{}{}/permuted{}_X_test.csv'.format(problem, num, i), delimiter=',')\n",
    "y_test = np.loadtxt('../intermediate/04_aggregate/{}{}/permuted{}_y_test.csv'.format(problem, num, i), delimiter=',')"
   ]
  },
  {
   "cell_type": "code",
   "execution_count": 32,
   "metadata": {},
   "outputs": [
    {
     "data": {
      "text/plain": [
       "RandomForestClassifier(bootstrap=True, class_weight=None, criterion='gini',\n",
       "            max_depth=None, max_features=10, max_leaf_nodes=None,\n",
       "            min_impurity_decrease=0.0, min_impurity_split=None,\n",
       "            min_samples_leaf=1, min_samples_split=2,\n",
       "            min_weight_fraction_leaf=0.0, n_estimators=100, n_jobs=1,\n",
       "            oob_score=False, random_state=None, verbose=0,\n",
       "            warm_start=False)"
      ]
     },
     "execution_count": 32,
     "metadata": {},
     "output_type": "execute_result"
    }
   ],
   "source": [
    "rf = rfc(n_estimators=100, max_features=10, min_samples_leaf=1)\n",
    "rf.fit(X_train, y_train)"
   ]
  },
  {
   "cell_type": "code",
   "execution_count": null,
   "metadata": {},
   "outputs": [],
   "source": [
    "%timeit ufi_imp = UFI_importance(rf, X_train, y_train)"
   ]
  },
  {
   "cell_type": "code",
   "execution_count": null,
   "metadata": {},
   "outputs": [],
   "source": [
    "%timeit feature_importance(rf, )"
   ]
  },
  {
   "cell_type": "code",
   "execution_count": 22,
   "metadata": {},
   "outputs": [
    {
     "data": {
      "text/plain": [
       "0.5377777777777778"
      ]
     },
     "execution_count": 22,
     "metadata": {},
     "output_type": "execute_result"
    }
   ],
   "source": [
    "np.mean(ufi_list)"
   ]
  },
  {
   "cell_type": "code",
   "execution_count": 19,
   "metadata": {},
   "outputs": [
    {
     "data": {
      "text/plain": [
       "0.6886913580246914"
      ]
     },
     "execution_count": 19,
     "metadata": {},
     "output_type": "execute_result"
    }
   ],
   "source": [
    "np.mean(gini_list)"
   ]
  },
  {
   "cell_type": "code",
   "execution_count": 20,
   "metadata": {},
   "outputs": [
    {
     "data": {
      "text/plain": [
       "27"
      ]
     },
     "execution_count": 20,
     "metadata": {},
     "output_type": "execute_result"
    }
   ],
   "source": [
    "len(ufi_list)"
   ]
  }
 ],
 "metadata": {
  "kernelspec": {
   "display_name": "Environment (conda_python3)",
   "language": "python",
   "name": "conda_python3"
  },
  "language_info": {
   "codemirror_mode": {
    "name": "ipython",
    "version": 3
   },
   "file_extension": ".py",
   "mimetype": "text/x-python",
   "name": "python",
   "nbconvert_exporter": "python",
   "pygments_lexer": "ipython3",
   "version": "3.7.4"
  }
 },
 "nbformat": 4,
 "nbformat_minor": 2
}
