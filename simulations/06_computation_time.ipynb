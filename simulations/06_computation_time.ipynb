{
 "cells": [
  {
   "cell_type": "code",
   "execution_count": 52,
   "metadata": {},
   "outputs": [],
   "source": [
    "import shap\n",
    "import pandas as pd\n",
    "import scipy as sp\n",
    "import numpy as np\n",
    "from irf.ensemble import wrf\n",
    "from sklearn.ensemble import RandomForestClassifier as rfc\n",
    "from sklearn.preprocessing import LabelEncoder, OneHotEncoder, LabelBinarizer, MinMaxScaler\n",
    "from sklearn.metrics import accuracy_score, roc_auc_score, f1_score\n",
    "import matplotlib.pyplot as plt\n",
    "from treeinterpreter.feature_importance import feature_importance as FI\n",
    "from treeinterpreter.feature_importance import MDA\n",
    "import time\n",
    "from sklearn.linear_model import lasso_stability_path"
   ]
  },
  {
   "cell_type": "markdown",
   "metadata": {},
   "source": [
    "# Compare different methods in terms of feature selection using simulated data"
   ]
  },
  {
   "cell_type": "code",
   "execution_count": 48,
   "metadata": {},
   "outputs": [
    {
     "ename": "FileNotFoundError",
     "evalue": "[Errno 2] No such file or directory: '../intermediate/04_aggregate/regression1/new_results_shallow.npz'",
     "output_type": "error",
     "traceback": [
      "\u001b[0;31m---------------------------------------------------------------------------\u001b[0m",
      "\u001b[0;31mFileNotFoundError\u001b[0m                         Traceback (most recent call last)",
      "\u001b[0;32m<ipython-input-48-6a2f55adc72a>\u001b[0m in \u001b[0;36m<module>\u001b[0;34m()\u001b[0m\n\u001b[1;32m      2\u001b[0m \u001b[0mnum\u001b[0m \u001b[0;34m=\u001b[0m \u001b[0;36m1\u001b[0m\u001b[0;34m\u001b[0m\u001b[0m\n\u001b[1;32m      3\u001b[0m \u001b[0mtree_depth\u001b[0m \u001b[0;34m=\u001b[0m \u001b[0;34m'shallow'\u001b[0m\u001b[0;34m\u001b[0m\u001b[0m\n\u001b[0;32m----> 4\u001b[0;31m \u001b[0mtmp\u001b[0m \u001b[0;34m=\u001b[0m \u001b[0mnp\u001b[0m\u001b[0;34m.\u001b[0m\u001b[0mload\u001b[0m\u001b[0;34m(\u001b[0m\u001b[0;34m'../intermediate/04_aggregate/{}{}/new_results_{}.npz'\u001b[0m\u001b[0;34m.\u001b[0m\u001b[0mformat\u001b[0m\u001b[0;34m(\u001b[0m\u001b[0mproblem\u001b[0m\u001b[0;34m,\u001b[0m \u001b[0mnum\u001b[0m\u001b[0;34m,\u001b[0m \u001b[0mtree_depth\u001b[0m\u001b[0;34m)\u001b[0m\u001b[0;34m)\u001b[0m\u001b[0;34m\u001b[0m\u001b[0m\n\u001b[0m\u001b[1;32m      5\u001b[0m \u001b[0mdebiased\u001b[0m\u001b[0;34m,\u001b[0m \u001b[0mgini\u001b[0m\u001b[0;34m,\u001b[0m \u001b[0mSHAP\u001b[0m\u001b[0;34m,\u001b[0m \u001b[0mmda\u001b[0m \u001b[0;34m=\u001b[0m \u001b[0;34m[\u001b[0m\u001b[0mtmp\u001b[0m\u001b[0;34m[\u001b[0m\u001b[0mx\u001b[0m\u001b[0;34m]\u001b[0m \u001b[0;32mfor\u001b[0m \u001b[0mx\u001b[0m \u001b[0;32min\u001b[0m \u001b[0mlist\u001b[0m\u001b[0;34m(\u001b[0m\u001b[0mtmp\u001b[0m\u001b[0;34m)\u001b[0m\u001b[0;34m]\u001b[0m\u001b[0;34m\u001b[0m\u001b[0m\n\u001b[1;32m      6\u001b[0m \u001b[0mtmp2\u001b[0m \u001b[0;34m=\u001b[0m \u001b[0mpd\u001b[0m\u001b[0;34m.\u001b[0m\u001b[0mread_csv\u001b[0m\u001b[0;34m(\u001b[0m\u001b[0;34m'../intermediate/04_aggregate_R_max_features_10/auc_df_{}{}_{}.csv'\u001b[0m\u001b[0;34m.\u001b[0m\u001b[0mformat\u001b[0m\u001b[0;34m(\u001b[0m\u001b[0mproblem\u001b[0m\u001b[0;34m,\u001b[0m \u001b[0mnum\u001b[0m\u001b[0;34m,\u001b[0m \u001b[0mtree_depth\u001b[0m\u001b[0;34m)\u001b[0m\u001b[0;34m)\u001b[0m\u001b[0;34m\u001b[0m\u001b[0m\n",
      "\u001b[0;32m~/anaconda3/envs/python3/lib/python3.6/site-packages/numpy/lib/npyio.py\u001b[0m in \u001b[0;36mload\u001b[0;34m(file, mmap_mode, allow_pickle, fix_imports, encoding)\u001b[0m\n\u001b[1;32m    382\u001b[0m     \u001b[0mown_fid\u001b[0m \u001b[0;34m=\u001b[0m \u001b[0;32mFalse\u001b[0m\u001b[0;34m\u001b[0m\u001b[0m\n\u001b[1;32m    383\u001b[0m     \u001b[0;32mif\u001b[0m \u001b[0misinstance\u001b[0m\u001b[0;34m(\u001b[0m\u001b[0mfile\u001b[0m\u001b[0;34m,\u001b[0m \u001b[0mbasestring\u001b[0m\u001b[0;34m)\u001b[0m\u001b[0;34m:\u001b[0m\u001b[0;34m\u001b[0m\u001b[0m\n\u001b[0;32m--> 384\u001b[0;31m         \u001b[0mfid\u001b[0m \u001b[0;34m=\u001b[0m \u001b[0mopen\u001b[0m\u001b[0;34m(\u001b[0m\u001b[0mfile\u001b[0m\u001b[0;34m,\u001b[0m \u001b[0;34m\"rb\"\u001b[0m\u001b[0;34m)\u001b[0m\u001b[0;34m\u001b[0m\u001b[0m\n\u001b[0m\u001b[1;32m    385\u001b[0m         \u001b[0mown_fid\u001b[0m \u001b[0;34m=\u001b[0m \u001b[0;32mTrue\u001b[0m\u001b[0;34m\u001b[0m\u001b[0m\n\u001b[1;32m    386\u001b[0m     \u001b[0;32melif\u001b[0m \u001b[0mis_pathlib_path\u001b[0m\u001b[0;34m(\u001b[0m\u001b[0mfile\u001b[0m\u001b[0;34m)\u001b[0m\u001b[0;34m:\u001b[0m\u001b[0;34m\u001b[0m\u001b[0m\n",
      "\u001b[0;31mFileNotFoundError\u001b[0m: [Errno 2] No such file or directory: '../intermediate/04_aggregate/regression1/new_results_shallow.npz'"
     ]
    }
   ],
   "source": [
    "problem = 'regression'\n",
    "num = 1\n",
    "tree_depth = 'shallow'\n",
    "tmp = np.load('../intermediate/04_aggregate/{}{}/new_results_{}.npz'.format(problem, num, tree_depth))\n",
    "debiased, gini, SHAP, mda = [tmp[x] for x in list(tmp)]\n",
    "tmp2 = pd.read_csv('../intermediate/04_aggregate_R_max_features_10/auc_df_{}{}_{}.csv'.format(problem, num, tree_depth))\n",
    "gini_R, ranger, cforest = np.array(tmp2.iloc[:, 1]), np.array(tmp2.iloc[:, 2]), np.array(tmp2.iloc[:, 3])\n",
    "gini_R, ranger, cforest\n",
    "out = np.array([debiased, SHAP,ranger, mda, cforest, gini]).T\n",
    "plt.boxplot(out)\n",
    "plt.xticks(list(range(1, 7)), ['MDI-oob', 'SHAP', 'ranger', 'MDA', 'cforest', 'MDI'])\n",
    "plt.show()\n",
    "print(' ')\n",
    "[print('{:.3f}'.format(x)) for x in np.mean(out,0)]\n",
    "print(' ')"
   ]
  },
  {
   "cell_type": "markdown",
   "metadata": {},
   "source": [
    "### load data"
   ]
  },
  {
   "cell_type": "code",
   "execution_count": 50,
   "metadata": {},
   "outputs": [],
   "source": [
    "X_train = np.loadtxt('../intermediate/04_aggregate/classification1/permuted0_X_train.csv', delimiter=',')\n",
    "y_train = np.loadtxt('../intermediate/04_aggregate/classification1/permuted0_y_train.csv', delimiter=',')\n",
    "X_test = np.loadtxt('../intermediate/04_aggregate/classification1/permuted0_X_test.csv', delimiter=',')\n",
    "y_test = np.loadtxt('../intermediate/04_aggregate/classification1/permuted0_y_test.csv', delimiter=',')\n",
    "noisy_features = np.loadtxt('../intermediate/04_aggregate/classification1/permuted0_noisy_features.csv', delimiter=',')\n",
    "n, m = X_train.shape\n",
    "names = np.arange(m)"
   ]
  },
  {
   "cell_type": "markdown",
   "metadata": {},
   "source": [
    "### Train RF"
   ]
  },
  {
   "cell_type": "code",
   "execution_count": 56,
   "metadata": {},
   "outputs": [
    {
     "name": "stderr",
     "output_type": "stream",
     "text": [
      "/home/ubuntu/anaconda3/envs/python3/lib/python3.6/site-packages/sklearn/utils/deprecation.py:77: DeprecationWarning: Function lasso_stability_path is deprecated; The function lasso_stability_path is deprecated in 0.19 and will be removed in 0.21.\n",
      "  warnings.warn(msg, category=DeprecationWarning)\n"
     ]
    }
   ],
   "source": [
    "alphas, scores = lasso_stability_path(X_train, y_train)"
   ]
  },
  {
   "cell_type": "code",
   "execution_count": 58,
   "metadata": {},
   "outputs": [
    {
     "data": {
      "text/html": [
       "[<matplotlib.lines.Line2D object at 0x7fa834c34c50>, <matplotlib.lines.Line2D object at 0x7fa834c34da0>, <matplotlib.lines.Line2D object at 0x7fa834c34ef0>, <matplotlib.lines.Line2D object at 0x7fa834c4c080>, <matplotlib.lines.Line2D object at 0x7fa834c4c1d0>, <matplotlib.lines.Line2D object at 0x7fa834c4c320>, <matplotlib.lines.Line2D object at 0x7fa834c4c470>, <matplotlib.lines.Line2D object at 0x7fa834c4c5c0>, <matplotlib.lines.Line2D object at 0x7fa834c4c710>, <matplotlib.lines.Line2D object at 0x7fa834c4c860>, <matplotlib.lines.Line2D object at 0x7fa834c68470>, <matplotlib.lines.Line2D object at 0x7fa834c4cac8>, <matplotlib.lines.Line2D object at 0x7fa834c4cc18>, <matplotlib.lines.Line2D object at 0x7fa834c4cd68>, <matplotlib.lines.Line2D object at 0x7fa834c4ceb8>, <matplotlib.lines.Line2D object at 0x7fa834c5d048>, <matplotlib.lines.Line2D object at 0x7fa834c5d198>, <matplotlib.lines.Line2D object at 0x7fa834c5d2e8>, <matplotlib.lines.Line2D object at 0x7fa834c5d438>, <matplotlib.lines.Line2D object at 0x7fa834c5d588>, <matplotlib.lines.Line2D object at 0x7fa834c5d6d8>, <matplotlib.lines.Line2D object at 0x7fa834c5d828>, <matplotlib.lines.Line2D object at 0x7fa834c5d978>, <matplotlib.lines.Line2D object at 0x7fa834c5dac8>, <matplotlib.lines.Line2D object at 0x7fa834c5dc18>, <matplotlib.lines.Line2D object at 0x7fa834c5dd68>, <matplotlib.lines.Line2D object at 0x7fa834c5deb8>, <matplotlib.lines.Line2D object at 0x7fa834bc7048>, <matplotlib.lines.Line2D object at 0x7fa834bc7198>, <matplotlib.lines.Line2D object at 0x7fa834bc72e8>, <matplotlib.lines.Line2D object at 0x7fa834bc7438>, <matplotlib.lines.Line2D object at 0x7fa834bc7588>, <matplotlib.lines.Line2D object at 0x7fa834bc76d8>, <matplotlib.lines.Line2D object at 0x7fa834bc7828>, <matplotlib.lines.Line2D object at 0x7fa834bc7978>, <matplotlib.lines.Line2D object at 0x7fa834bc7ac8>, <matplotlib.lines.Line2D object at 0x7fa834bc7c18>, <matplotlib.lines.Line2D object at 0x7fa834bc7d68>, <matplotlib.lines.Line2D object at 0x7fa834bc7eb8>, <matplotlib.lines.Line2D object at 0x7fa834bed048>, <matplotlib.lines.Line2D object at 0x7fa834bed198>, <matplotlib.lines.Line2D object at 0x7fa834bed2e8>, <matplotlib.lines.Line2D object at 0x7fa834bed438>, <matplotlib.lines.Line2D object at 0x7fa834bed588>, <matplotlib.lines.Line2D object at 0x7fa834bed6d8>, <matplotlib.lines.Line2D object at 0x7fa834bed828>, <matplotlib.lines.Line2D object at 0x7fa834bed978>, <matplotlib.lines.Line2D object at 0x7fa834bedac8>, <matplotlib.lines.Line2D object at 0x7fa834bedc18>, <matplotlib.lines.Line2D object at 0x7fa834bedd68>, <matplotlib.lines.Line2D object at 0x7fa834bedeb8>, <matplotlib.lines.Line2D object at 0x7fa834be5048>, <matplotlib.lines.Line2D object at 0x7fa834be5198>, <matplotlib.lines.Line2D object at 0x7fa834be52e8>, <matplotlib.lines.Line2D object at 0x7fa834be5438>, <matplotlib.lines.Line2D object at 0x7fa834be5588>, <matplotlib.lines.Line2D object at 0x7fa834be56d8>, <matplotlib.lines.Line2D object at 0x7fa834be5828>, <matplotlib.lines.Line2D object at 0x7fa834be5978>, <matplotlib.lines.Line2D object at 0x7fa834be5ac8>, <matplotlib.lines.Line2D object at 0x7fa834be5c18>, <matplotlib.lines.Line2D object at 0x7fa834be5d68>, <matplotlib.lines.Line2D object at 0x7fa834be5eb8>, <matplotlib.lines.Line2D object at 0x7fa834bd9048>, <matplotlib.lines.Line2D object at 0x7fa834bd9198>, <matplotlib.lines.Line2D object at 0x7fa834bd92e8>, <matplotlib.lines.Line2D object at 0x7fa834bd9438>, <matplotlib.lines.Line2D object at 0x7fa834bd9588>, <matplotlib.lines.Line2D object at 0x7fa834bd96d8>, <matplotlib.lines.Line2D object at 0x7fa834bd9828>, <matplotlib.lines.Line2D object at 0x7fa834bd9978>, <matplotlib.lines.Line2D object at 0x7fa834bd9ac8>, <matplotlib.lines.Line2D object at 0x7fa834bd9c18>, <matplotlib.lines.Line2D object at 0x7fa834bd9d68>, <matplotlib.lines.Line2D object at 0x7fa834bd9eb8>, <matplotlib.lines.Line2D object at 0x7fa834bd1048>, <matplotlib.lines.Line2D object at 0x7fa834bd1198>, <matplotlib.lines.Line2D object at 0x7fa834bd12e8>, <matplotlib.lines.Line2D object at 0x7fa834bd1438>, <matplotlib.lines.Line2D object at 0x7fa834bd1588>]"
      ],
      "text/plain": [
       "[<matplotlib.lines.Line2D at 0x7fa834c34c50>,\n",
       " <matplotlib.lines.Line2D at 0x7fa834c34da0>,\n",
       " <matplotlib.lines.Line2D at 0x7fa834c34ef0>,\n",
       " <matplotlib.lines.Line2D at 0x7fa834c4c080>,\n",
       " <matplotlib.lines.Line2D at 0x7fa834c4c1d0>,\n",
       " <matplotlib.lines.Line2D at 0x7fa834c4c320>,\n",
       " <matplotlib.lines.Line2D at 0x7fa834c4c470>,\n",
       " <matplotlib.lines.Line2D at 0x7fa834c4c5c0>,\n",
       " <matplotlib.lines.Line2D at 0x7fa834c4c710>,\n",
       " <matplotlib.lines.Line2D at 0x7fa834c4c860>,\n",
       " <matplotlib.lines.Line2D at 0x7fa834c68470>,\n",
       " <matplotlib.lines.Line2D at 0x7fa834c4cac8>,\n",
       " <matplotlib.lines.Line2D at 0x7fa834c4cc18>,\n",
       " <matplotlib.lines.Line2D at 0x7fa834c4cd68>,\n",
       " <matplotlib.lines.Line2D at 0x7fa834c4ceb8>,\n",
       " <matplotlib.lines.Line2D at 0x7fa834c5d048>,\n",
       " <matplotlib.lines.Line2D at 0x7fa834c5d198>,\n",
       " <matplotlib.lines.Line2D at 0x7fa834c5d2e8>,\n",
       " <matplotlib.lines.Line2D at 0x7fa834c5d438>,\n",
       " <matplotlib.lines.Line2D at 0x7fa834c5d588>,\n",
       " <matplotlib.lines.Line2D at 0x7fa834c5d6d8>,\n",
       " <matplotlib.lines.Line2D at 0x7fa834c5d828>,\n",
       " <matplotlib.lines.Line2D at 0x7fa834c5d978>,\n",
       " <matplotlib.lines.Line2D at 0x7fa834c5dac8>,\n",
       " <matplotlib.lines.Line2D at 0x7fa834c5dc18>,\n",
       " <matplotlib.lines.Line2D at 0x7fa834c5dd68>,\n",
       " <matplotlib.lines.Line2D at 0x7fa834c5deb8>,\n",
       " <matplotlib.lines.Line2D at 0x7fa834bc7048>,\n",
       " <matplotlib.lines.Line2D at 0x7fa834bc7198>,\n",
       " <matplotlib.lines.Line2D at 0x7fa834bc72e8>,\n",
       " <matplotlib.lines.Line2D at 0x7fa834bc7438>,\n",
       " <matplotlib.lines.Line2D at 0x7fa834bc7588>,\n",
       " <matplotlib.lines.Line2D at 0x7fa834bc76d8>,\n",
       " <matplotlib.lines.Line2D at 0x7fa834bc7828>,\n",
       " <matplotlib.lines.Line2D at 0x7fa834bc7978>,\n",
       " <matplotlib.lines.Line2D at 0x7fa834bc7ac8>,\n",
       " <matplotlib.lines.Line2D at 0x7fa834bc7c18>,\n",
       " <matplotlib.lines.Line2D at 0x7fa834bc7d68>,\n",
       " <matplotlib.lines.Line2D at 0x7fa834bc7eb8>,\n",
       " <matplotlib.lines.Line2D at 0x7fa834bed048>,\n",
       " <matplotlib.lines.Line2D at 0x7fa834bed198>,\n",
       " <matplotlib.lines.Line2D at 0x7fa834bed2e8>,\n",
       " <matplotlib.lines.Line2D at 0x7fa834bed438>,\n",
       " <matplotlib.lines.Line2D at 0x7fa834bed588>,\n",
       " <matplotlib.lines.Line2D at 0x7fa834bed6d8>,\n",
       " <matplotlib.lines.Line2D at 0x7fa834bed828>,\n",
       " <matplotlib.lines.Line2D at 0x7fa834bed978>,\n",
       " <matplotlib.lines.Line2D at 0x7fa834bedac8>,\n",
       " <matplotlib.lines.Line2D at 0x7fa834bedc18>,\n",
       " <matplotlib.lines.Line2D at 0x7fa834bedd68>,\n",
       " <matplotlib.lines.Line2D at 0x7fa834bedeb8>,\n",
       " <matplotlib.lines.Line2D at 0x7fa834be5048>,\n",
       " <matplotlib.lines.Line2D at 0x7fa834be5198>,\n",
       " <matplotlib.lines.Line2D at 0x7fa834be52e8>,\n",
       " <matplotlib.lines.Line2D at 0x7fa834be5438>,\n",
       " <matplotlib.lines.Line2D at 0x7fa834be5588>,\n",
       " <matplotlib.lines.Line2D at 0x7fa834be56d8>,\n",
       " <matplotlib.lines.Line2D at 0x7fa834be5828>,\n",
       " <matplotlib.lines.Line2D at 0x7fa834be5978>,\n",
       " <matplotlib.lines.Line2D at 0x7fa834be5ac8>,\n",
       " <matplotlib.lines.Line2D at 0x7fa834be5c18>,\n",
       " <matplotlib.lines.Line2D at 0x7fa834be5d68>,\n",
       " <matplotlib.lines.Line2D at 0x7fa834be5eb8>,\n",
       " <matplotlib.lines.Line2D at 0x7fa834bd9048>,\n",
       " <matplotlib.lines.Line2D at 0x7fa834bd9198>,\n",
       " <matplotlib.lines.Line2D at 0x7fa834bd92e8>,\n",
       " <matplotlib.lines.Line2D at 0x7fa834bd9438>,\n",
       " <matplotlib.lines.Line2D at 0x7fa834bd9588>,\n",
       " <matplotlib.lines.Line2D at 0x7fa834bd96d8>,\n",
       " <matplotlib.lines.Line2D at 0x7fa834bd9828>,\n",
       " <matplotlib.lines.Line2D at 0x7fa834bd9978>,\n",
       " <matplotlib.lines.Line2D at 0x7fa834bd9ac8>,\n",
       " <matplotlib.lines.Line2D at 0x7fa834bd9c18>,\n",
       " <matplotlib.lines.Line2D at 0x7fa834bd9d68>,\n",
       " <matplotlib.lines.Line2D at 0x7fa834bd9eb8>,\n",
       " <matplotlib.lines.Line2D at 0x7fa834bd1048>,\n",
       " <matplotlib.lines.Line2D at 0x7fa834bd1198>,\n",
       " <matplotlib.lines.Line2D at 0x7fa834bd12e8>,\n",
       " <matplotlib.lines.Line2D at 0x7fa834bd1438>,\n",
       " <matplotlib.lines.Line2D at 0x7fa834bd1588>]"
      ]
     },
     "execution_count": 58,
     "metadata": {},
     "output_type": "execute_result"
    },
    {
     "data": {
      "image/png": "[encoded data removed]",
      "text/plain": [
       "<Figure size 432x288 with 1 Axes>"
      ]
     },
     "metadata": {},
     "output_type": "display_data"
    }
   ],
   "source": [
    "plt.plot(alphas, scores.T)"
   ]
  },
  {
   "cell_type": "code",
   "execution_count": 65,
   "metadata": {},
   "outputs": [
    {
     "name": "stdout",
     "output_type": "stream",
     "text": [
      "Help on function roc_auc_score in module sklearn.metrics.ranking:\n",
      "\n",
      "roc_auc_score(y_true, y_score, average='macro', sample_weight=None)\n",
      "    Compute Area Under the Receiver Operating Characteristic Curve (ROC AUC)\n",
      "    from prediction scores.\n",
      "    \n",
      "    Note: this implementation is restricted to the binary classification task\n",
      "    or multilabel classification task in label indicator format.\n",
      "    \n",
      "    Read more in the :ref:`User Guide <roc_metrics>`.\n",
      "    \n",
      "    Parameters\n",
      "    ----------\n",
      "    y_true : array, shape = [n_samples] or [n_samples, n_classes]\n",
      "        True binary labels in binary label indicators.\n",
      "    \n",
      "    y_score : array, shape = [n_samples] or [n_samples, n_classes]\n",
      "        Target scores, can either be probability estimates of the positive\n",
      "        class, confidence values, or non-thresholded measure of decisions\n",
      "        (as returned by \"decision_function\" on some classifiers).\n",
      "    \n",
      "    average : string, [None, 'micro', 'macro' (default), 'samples', 'weighted']\n",
      "        If ``None``, the scores for each class are returned. Otherwise,\n",
      "        this determines the type of averaging performed on the data:\n",
      "    \n",
      "        ``'micro'``:\n",
      "            Calculate metrics globally by considering each element of the label\n",
      "            indicator matrix as a label.\n",
      "        ``'macro'``:\n",
      "            Calculate metrics for each label, and find their unweighted\n",
      "            mean.  This does not take label imbalance into account.\n",
      "        ``'weighted'``:\n",
      "            Calculate metrics for each label, and find their average, weighted\n",
      "            by support (the number of true instances for each label).\n",
      "        ``'samples'``:\n",
      "            Calculate metrics for each instance, and find their average.\n",
      "    \n",
      "    sample_weight : array-like of shape = [n_samples], optional\n",
      "        Sample weights.\n",
      "    \n",
      "    Returns\n",
      "    -------\n",
      "    auc : float\n",
      "    \n",
      "    References\n",
      "    ----------\n",
      "    .. [1] `Wikipedia entry for the Receiver operating characteristic\n",
      "            <https://en.wikipedia.org/wiki/Receiver_operating_characteristic>`_\n",
      "    \n",
      "    See also\n",
      "    --------\n",
      "    average_precision_score : Area under the precision-recall curve\n",
      "    \n",
      "    roc_curve : Compute Receiver operating characteristic (ROC) curve\n",
      "    \n",
      "    Examples\n",
      "    --------\n",
      "    >>> import numpy as np\n",
      "    >>> from sklearn.metrics import roc_auc_score\n",
      "    >>> y_true = np.array([0, 0, 1, 1])\n",
      "    >>> y_scores = np.array([0.1, 0.4, 0.35, 0.8])\n",
      "    >>> roc_auc_score(y_true, y_scores)\n",
      "    0.75\n",
      "\n"
     ]
    }
   ],
   "source": [
    "help(roc_auc_score)"
   ]
  },
  {
   "cell_type": "code",
   "execution_count": 69,
   "metadata": {},
   "outputs": [
    {
     "data": {
      "text/plain": [
       "0.44"
      ]
     },
     "execution_count": 69,
     "metadata": {},
     "output_type": "execute_result"
    }
   ],
   "source": [
    "stability_imp = np.max(scores[:, alphas > .3], axis=1)\n",
    "roc_auc_score(noisy_features, -stability_imp)"
   ]
  },
  {
   "cell_type": "code",
   "execution_count": 14,
   "metadata": {},
   "outputs": [
    {
     "name": "stdout",
     "output_type": "stream",
     "text": [
      "1.42 s ± 12.7 ms per loop (mean ± std. dev. of 7 runs, 1 loop each)\n"
     ]
    },
    {
     "data": {
      "text/plain": [
       "11.385199308395386"
      ]
     },
     "execution_count": 14,
     "metadata": {},
     "output_type": "execute_result"
    }
   ],
   "source": [
    "rf = rfc(n_estimators=100, max_features=8)\n",
    "start = time.time()\n",
    "%timeit rf.fit(X_train, y_train)\n",
    "gini_imp = rf.feature_importances_\n",
    "end = time.time()\n",
    "end - start"
   ]
  },
  {
   "cell_type": "markdown",
   "metadata": {},
   "source": [
    "- accuracy"
   ]
  },
  {
   "cell_type": "code",
   "execution_count": 16,
   "metadata": {},
   "outputs": [
    {
     "name": "stdout",
     "output_type": "stream",
     "text": [
      "accuracy of RF is 0.667\n"
     ]
    }
   ],
   "source": [
    "print('accuracy of RF is {0:.3f}'.format(accuracy_score(y_true=y_test, y_pred=rf.predict(X_test))))"
   ]
  },
  {
   "cell_type": "markdown",
   "metadata": {},
   "source": [
    "- Plot feature importance"
   ]
  },
  {
   "cell_type": "code",
   "execution_count": 19,
   "metadata": {},
   "outputs": [
    {
     "data": {
      "image/png": "[encoded data removed]",
      "text/plain": [
       "<Figure size 432x288 with 1 Axes>"
      ]
     },
     "metadata": {},
     "output_type": "display_data"
    }
   ],
   "source": [
    "noisy_features = np.array([int(x) for x in noisy_features])\n",
    "colors = np.array(['red', 'blue'])[noisy_features]\n",
    "plt.bar(x = np.arange(X_train.shape[1]), height = gini_imp, color = colors)\n",
    "plt.show()"
   ]
  },
  {
   "cell_type": "markdown",
   "metadata": {},
   "source": [
    "### prune features based on their importance measures"
   ]
  },
  {
   "cell_type": "markdown",
   "metadata": {},
   "source": [
    "- classic gini importance"
   ]
  },
  {
   "cell_type": "markdown",
   "metadata": {},
   "source": [
    "     - plot the gini importance"
   ]
  },
  {
   "cell_type": "code",
   "execution_count": 9,
   "metadata": {},
   "outputs": [
    {
     "data": {
      "image/png": "[encoded data removed]",
      "text/plain": [
       "<Figure size 432x288 with 1 Axes>"
      ]
     },
     "metadata": {},
     "output_type": "display_data"
    }
   ],
   "source": [
    "ix = np.argsort(gini_imp * -1)\n",
    "plt.bar(x = list(range(m)), height = gini_imp[ix], color = colors[ix])\n",
    "#plt.xticks(list(range(m)), np.array(names)[ix], rotation='vertical')\n",
    "plt.show()"
   ]
  },
  {
   "cell_type": "markdown",
   "metadata": {},
   "source": [
    "- debiased gini importance"
   ]
  },
  {
   "cell_type": "code",
   "execution_count": 21,
   "metadata": {},
   "outputs": [
    {
     "ename": "NameError",
     "evalue": "name 'OOB_MDI' is not defined",
     "output_type": "error",
     "traceback": [
      "\u001b[0;31m---------------------------------------------------------------------------\u001b[0m",
      "\u001b[0;31mNameError\u001b[0m                                 Traceback (most recent call last)",
      "\u001b[0;32m<ipython-input-21-eba7fb70c625>\u001b[0m in \u001b[0;36m<module>\u001b[0;34m()\u001b[0m\n\u001b[0;32m----> 1\u001b[0;31m \u001b[0mdebiased_fi_mean\u001b[0m \u001b[0;34m=\u001b[0m \u001b[0mOOB_MDI\u001b[0m\u001b[0;34m(\u001b[0m\u001b[0mrf\u001b[0m\u001b[0;34m,\u001b[0m \u001b[0mX_train\u001b[0m\u001b[0;34m,\u001b[0m \u001b[0my_train\u001b[0m\u001b[0;34m,\u001b[0m \u001b[0mmin_samples\u001b[0m\u001b[0;34m=\u001b[0m\u001b[0;36m40\u001b[0m\u001b[0;34m)\u001b[0m\u001b[0;34m\u001b[0m\u001b[0m\n\u001b[0m",
      "\u001b[0;31mNameError\u001b[0m: name 'OOB_MDI' is not defined"
     ]
    }
   ],
   "source": [
    "debiased_fi_mean = OOB_MDI(rf, X_train, y_train, min_samples=40)"
   ]
  },
  {
   "cell_type": "code",
   "execution_count": 22,
   "metadata": {},
   "outputs": [],
   "source": [
    "y_train_one_hot = OneHotEncoder().fit_transform(y_train[:, np.newaxis]).todense()"
   ]
  },
  {
   "cell_type": "code",
   "execution_count": 23,
   "metadata": {},
   "outputs": [
    {
     "name": "stdout",
     "output_type": "stream",
     "text": [
      "3.78 s ± 464 ms per loop (mean ± std. dev. of 7 runs, 1 loop each)\n"
     ]
    }
   ],
   "source": [
    "%timeit debiased_fi_mean, debiased_fi_std = FI(rf, X_train, y_train_one_hot, type='oob', normalized=False, balanced = False)"
   ]
  },
  {
   "cell_type": "markdown",
   "metadata": {},
   "source": [
    "    - plot debiased gini importance"
   ]
  },
  {
   "cell_type": "code",
   "execution_count": 109,
   "metadata": {},
   "outputs": [
    {
     "data": {
      "image/png": "[encoded data removed]",
      "text/plain": [
       "<Figure size 432x288 with 1 Axes>"
      ]
     },
     "metadata": {},
     "output_type": "display_data"
    }
   ],
   "source": [
    "debiased_imp = debiased_fi_mean\n",
    "ix = np.argsort(debiased_imp * -1)\n",
    "plt.bar(x = list(range(m)), height = debiased_imp[ix], color=colors[ix])\n",
    "#plt.xticks(list(range(m)), np.array(names)[ix], rotation='vertical')\n",
    "plt.show()"
   ]
  },
  {
   "cell_type": "markdown",
   "metadata": {},
   "source": [
    "- MDA"
   ]
  },
  {
   "cell_type": "code",
   "execution_count": null,
   "metadata": {},
   "outputs": [],
   "source": [
    "MDA_imp, _ = MDA(rf, X_test, y_test[:, np.newaxis], type='test', n_trials=10)\n",
    "#MDA_imp[MDA_imp < 0] = 0\n",
    "ix = np.argsort(MDA_imp * -1)\n",
    "plt.bar(x = list(range(m)), height = MDA_imp[ix], color=colors[ix])\n",
    "plt.xticks(list(range(m)), np.array(names)[ix], rotation='vertical')\n",
    "plt.show()"
   ]
  },
  {
   "cell_type": "markdown",
   "metadata": {},
   "source": [
    "- tree SHAP"
   ]
  },
  {
   "cell_type": "code",
   "execution_count": null,
   "metadata": {},
   "outputs": [],
   "source": [
    "explainer = shap.TreeExplainer(rf)\n",
    "samples = np.random.choice(range(X_train.shape[0]), 100)\n",
    "%timeit shap_values = explainer.shap_values(X_train[samples, :])\n",
    "shap.summary_plot(shap_values, X_train[samples, :], plot_type=\"bar\")"
   ]
  },
  {
   "cell_type": "code",
   "execution_count": 15,
   "metadata": {},
   "outputs": [
    {
     "data": {
      "image/png": "[encoded data removed]",
      "text/plain": [
       "<Figure size 432x288 with 1 Axes>"
      ]
     },
     "metadata": {},
     "output_type": "display_data"
    }
   ],
   "source": [
    "shap_imp = np.mean(abs(shap_values[0]), 0) + np.mean(abs(shap_values[1]), 0)\n",
    "ix = np.argsort(shap_imp * -1)\n",
    "plt.bar(x = list(range(m)), height = shap_imp[ix], color=colors[ix])\n",
    "plt.xticks(list(range(m)), np.array(names)[ix], rotation='vertical')\n",
    "plt.show()"
   ]
  },
  {
   "cell_type": "markdown",
   "metadata": {},
   "source": [
    "### Comparison"
   ]
  },
  {
   "cell_type": "code",
   "execution_count": 16,
   "metadata": {},
   "outputs": [
    {
     "ename": "NameError",
     "evalue": "name 'MDA_imp' is not defined",
     "output_type": "error",
     "traceback": [
      "\u001b[0;31m---------------------------------------------------------------------------\u001b[0m",
      "\u001b[0;31mNameError\u001b[0m                                 Traceback (most recent call last)",
      "\u001b[0;32m<ipython-input-16-d52983865182>\u001b[0m in \u001b[0;36m<module>\u001b[0;34m()\u001b[0m\n\u001b[1;32m      1\u001b[0m \u001b[0mdebiased_imp\u001b[0m\u001b[0;34m[\u001b[0m\u001b[0mdebiased_imp\u001b[0m \u001b[0;34m<\u001b[0m \u001b[0;36m0\u001b[0m\u001b[0;34m]\u001b[0m \u001b[0;34m=\u001b[0m \u001b[0;36m0\u001b[0m\u001b[0;34m\u001b[0m\u001b[0m\n\u001b[0;32m----> 2\u001b[0;31m \u001b[0mMDA_imp\u001b[0m\u001b[0;34m[\u001b[0m\u001b[0mMDA_imp\u001b[0m \u001b[0;34m<\u001b[0m \u001b[0;36m0\u001b[0m\u001b[0;34m]\u001b[0m \u001b[0;34m=\u001b[0m \u001b[0;36m0\u001b[0m\u001b[0;34m\u001b[0m\u001b[0m\n\u001b[0m",
      "\u001b[0;31mNameError\u001b[0m: name 'MDA_imp' is not defined"
     ]
    }
   ],
   "source": [
    "debiased_imp[debiased_imp < 0] = 0\n",
    "MDA_imp[MDA_imp < 0] = 0"
   ]
  },
  {
   "cell_type": "code",
   "execution_count": 51,
   "metadata": {},
   "outputs": [
    {
     "data": {
      "text/plain": [
       "0.8719999999999999"
      ]
     },
     "execution_count": 51,
     "metadata": {},
     "output_type": "execute_result"
    }
   ],
   "source": [
    "roc_auc_score(noisy_features, - debiased_imp)"
   ]
  },
  {
   "cell_type": "code",
   "execution_count": 18,
   "metadata": {},
   "outputs": [
    {
     "data": {
      "text/plain": [
       "0.5840000000000001"
      ]
     },
     "execution_count": 18,
     "metadata": {},
     "output_type": "execute_result"
    }
   ],
   "source": [
    "roc_auc_score(noisy_features, - gini_imp)"
   ]
  },
  {
   "cell_type": "code",
   "execution_count": 19,
   "metadata": {},
   "outputs": [
    {
     "data": {
      "text/plain": [
       "0.8426666666666667"
      ]
     },
     "execution_count": 19,
     "metadata": {},
     "output_type": "execute_result"
    }
   ],
   "source": [
    "roc_auc_score(noisy_features, - shap_imp)"
   ]
  },
  {
   "cell_type": "code",
   "execution_count": null,
   "metadata": {},
   "outputs": [],
   "source": [
    "roc_auc_score(noisy_features, - MDA_imp)"
   ]
  },
  {
   "cell_type": "markdown",
   "metadata": {},
   "source": [
    "<hr />\n",
    "\n",
    "### summary of the results from .py file"
   ]
  },
  {
   "cell_type": "code",
   "execution_count": 98,
   "metadata": {},
   "outputs": [],
   "source": [
    "tmp = np.load('../intermediate/02_simulation_results_correlated_regression.npz')\n",
    "debiased, gini, shap, mda = [tmp[x] for x in list(tmp)]"
   ]
  },
  {
   "cell_type": "code",
   "execution_count": 99,
   "metadata": {},
   "outputs": [
    {
     "data": {
      "text/plain": [
       "(array([0.84533333, 0.832     , 0.8       , 0.80533333, 0.59466667,\n",
       "        0.55733333, 0.70666667, 0.79466667, 0.968     , 0.68      ,\n",
       "        0.776     , 0.91733333, 0.688     , 0.51733333, 0.65066667,\n",
       "        0.632     , 0.80266667, 0.688     , 0.77066667, 0.536     ,\n",
       "        0.456     , 0.64266667, 0.656     , 0.79733333, 0.76      ,\n",
       "        0.86933333, 0.84266667, 0.936     , 0.60533333, 0.82933333,\n",
       "        0.824     , 0.80266667, 0.85866667, 0.62666667, 0.656     ,\n",
       "        0.67733333, 0.62133333, 0.94666667, 0.60266667, 0.78666667]),\n",
       " array([0.70933333, 0.86933333, 0.776     , 0.97066667, 0.77066667,\n",
       "        0.65333333, 0.96533333, 0.96      , 0.992     , 0.79466667,\n",
       "        0.936     , 0.992     , 0.81866667, 0.784     , 0.72266667,\n",
       "        0.816     , 0.87733333, 0.73866667, 0.77066667, 0.82666667,\n",
       "        0.89866667, 0.848     , 0.87466667, 0.83466667, 0.84533333,\n",
       "        0.85333333, 0.896     , 0.99466667, 0.75733333, 0.87466667,\n",
       "        0.89066667, 0.896     , 0.76533333, 0.64      , 0.94666667,\n",
       "        0.74666667, 0.936     , 0.98133333, 0.97066667, 1.        ]),\n",
       " array([0.76533333, 0.72266667, 1.        , 1.        , 0.94133333,\n",
       "        0.61866667, 0.95466667, 0.93866667, 1.        , 0.97866667,\n",
       "        0.976     , 0.90666667, 0.98933333, 0.888     , 0.95466667,\n",
       "        0.93333333, 1.        , 0.736     , 0.976     , 0.89466667,\n",
       "        0.9       , 0.92533333, 0.78933333, 0.928     , 0.984     ,\n",
       "        0.896     , 0.94133333, 1.        , 0.76266667, 0.99466667,\n",
       "        0.992     , 0.93066667, 0.78933333, 0.696     , 0.97866667,\n",
       "        0.95733333, 0.88      , 1.        , 0.9       , 1.        ]))"
      ]
     },
     "execution_count": 99,
     "metadata": {},
     "output_type": "execute_result"
    }
   ],
   "source": [
    "tmp2 = pd.read_csv('../intermediate/02_simulation_results_R_correlated_shallow.csv')\n",
    "gini_R, ranger, cforest = np.array(tmp2.iloc[:, 1]), np.array(tmp2.iloc[:, 2]), np.array(tmp2.iloc[:, 3])\n",
    "gini_R, ranger, cforest"
   ]
  },
  {
   "cell_type": "code",
   "execution_count": 100,
   "metadata": {},
   "outputs": [],
   "source": [
    "out = np.array([debiased, shap,ranger, mda, cforest, gini]).T"
   ]
  },
  {
   "cell_type": "code",
   "execution_count": 101,
   "metadata": {},
   "outputs": [
    {
     "data": {
      "image/png": "[encoded data removed]",
      "text/plain": [
       "<Figure size 432x288 with 1 Axes>"
      ]
     },
     "metadata": {},
     "output_type": "display_data"
    }
   ],
   "source": [
    "plt.boxplot(out)\n",
    "plt.xticks(list(range(1, 7)), ['OOB MDI', 'SHAP', 'ranger', 'MDA', 'cforest', 'MDI'])\n",
    "plt.show()"
   ]
  },
  {
   "cell_type": "code",
   "execution_count": 102,
   "metadata": {},
   "outputs": [
    {
     "data": {
      "text/plain": [
       "array([0.9806    , 0.96393333, 0.85486667, 0.95666667, 0.9105    ,\n",
       "       0.73586667])"
      ]
     },
     "execution_count": 102,
     "metadata": {},
     "output_type": "execute_result"
    }
   ],
   "source": [
    "np.mean(out, 0)"
   ]
  }
 ],
 "metadata": {
  "kernelspec": {
   "display_name": "Environment (conda_python3)",
   "language": "python",
   "name": "conda_python3"
  },
  "language_info": {
   "codemirror_mode": {
    "name": "ipython",
    "version": 3
   },
   "file_extension": ".py",
   "mimetype": "text/x-python",
   "name": "python",
   "nbconvert_exporter": "python",
   "pygments_lexer": "ipython3",
   "version": "3.6.5"
  }
 },
 "nbformat": 4,
 "nbformat_minor": 2
}
