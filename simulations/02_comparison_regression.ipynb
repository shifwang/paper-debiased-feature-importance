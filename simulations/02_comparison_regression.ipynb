{
 "cells": [
  {
   "cell_type": "code",
   "execution_count": 91,
   "metadata": {},
   "outputs": [],
   "source": [
    "import shap\n",
    "import pandas as pd\n",
    "import scipy as sp\n",
    "import numpy as np\n",
    "from sklearn.ensemble import RandomForestRegressor as rfr\n",
    "from sklearn.preprocessing import LabelEncoder, OneHotEncoder, LabelBinarizer, MinMaxScaler\n",
    "from sklearn.metrics import accuracy_score, roc_auc_score, f1_score, mean_squared_error\n",
    "import matplotlib.pyplot as plt\n",
    "from treeinterpreter.feature_importance import feature_importance as FI\n",
    "from treeinterpreter.feature_importance import MDA"
   ]
  },
  {
   "cell_type": "markdown",
   "metadata": {},
   "source": [
    "# Regression: Compare different methods in terms of feature selection using simulated data "
   ]
  },
  {
   "cell_type": "markdown",
   "metadata": {},
   "source": [
    "### load data"
   ]
  },
  {
   "cell_type": "code",
   "execution_count": 92,
   "metadata": {},
   "outputs": [],
   "source": [
    "X_train = np.loadtxt('../intermediate/02_enhancer/X_train.csv', delimiter=',')\n",
    "y_train = np.loadtxt('../intermediate/02_enhancer/y_train.csv', delimiter=',')\n",
    "X_test = np.loadtxt('../intermediate/02_enhancer/X_test.csv', delimiter=',')\n",
    "y_test = np.loadtxt('../intermediate/02_enhancer/y_test.csv', delimiter=',')\n",
    "n, m = X_train.shape\n",
    "names = np.arange(m)"
   ]
  },
  {
   "cell_type": "code",
   "execution_count": 93,
   "metadata": {},
   "outputs": [],
   "source": [
    "def permute(X, noisy_features):\n",
    "    tmp = X.copy()\n",
    "    for j in range(X.shape[1]):\n",
    "        if noisy_features[j] == 1:\n",
    "            tmp[:, j] = np.random.permutation(tmp[:, j])\n",
    "    return tmp\n",
    "def f(X, noisy_features):\n",
    "    y = np.mean(X[:, noisy_features == 0], 1) \n",
    "    y += np.random.normal(0, np.std(y) ** 2 * 100, y.shape)\n",
    "    return y"
   ]
  },
  {
   "cell_type": "code",
   "execution_count": 94,
   "metadata": {},
   "outputs": [],
   "source": [
    "n_features = X_train.shape[1]\n",
    "n, m = X_train.shape\n",
    "names = np.arange(m)\n",
    "scaler = MinMaxScaler()\n",
    "noisy_features = np.ones((n_features, ), dtype=int)\n",
    "noisy_features[np.random.choice(range(n_features), 5, replace=False)] = 0\n",
    "X_train = scaler.fit_transform(X_train)\n",
    "X_test = scaler.transform(X_test)\n",
    "X_train = permute(X_train, noisy_features)\n",
    "X_test = permute(X_test, noisy_features)\n",
    "y_train = f(X_train, noisy_features)\n",
    "y_test = f(X_test, noisy_features)"
   ]
  },
  {
   "cell_type": "markdown",
   "metadata": {},
   "source": [
    "### save intermediate"
   ]
  },
  {
   "cell_type": "code",
   "execution_count": 95,
   "metadata": {},
   "outputs": [],
   "source": [
    "np.savetxt('../intermediate/02_enhancer_regression/permuted1_X_train.csv', X_train, delimiter=',')\n",
    "np.savetxt('../intermediate/02_enhancer_regression/permuted1_y_train.csv', y_train, delimiter=',')\n",
    "np.savetxt('../intermediate/02_enhancer_regression/permuted1_X_test.csv', X_test, delimiter=',')\n",
    "np.savetxt('../intermediate/02_enhancer_regression/permuted1_y_test.csv', y_test, delimiter=',')\n",
    "np.savetxt('../intermediate/02_enhancer_regression/permuted1_noisy_features.csv', noisy_features, delimiter=',')"
   ]
  },
  {
   "cell_type": "markdown",
   "metadata": {},
   "source": [
    "### Train RF"
   ]
  },
  {
   "cell_type": "code",
   "execution_count": 96,
   "metadata": {},
   "outputs": [],
   "source": [
    "rf = rfr(n_estimators=100, max_features=8)\n",
    "rf.fit(X_train, y_train)\n",
    "gini_imp = rf.feature_importances_"
   ]
  },
  {
   "cell_type": "markdown",
   "metadata": {},
   "source": [
    "- accuracy"
   ]
  },
  {
   "cell_type": "code",
   "execution_count": 97,
   "metadata": {},
   "outputs": [
    {
     "name": "stdout",
     "output_type": "stream",
     "text": [
      "MSE of RF is 0.317\n"
     ]
    }
   ],
   "source": [
    "print('MSE of RF is {0:.3f}'.format(mean_squared_error(y_true=y_test, y_pred=rf.predict(X_test))))"
   ]
  },
  {
   "cell_type": "markdown",
   "metadata": {},
   "source": [
    "- Plot feature importance"
   ]
  },
  {
   "cell_type": "code",
   "execution_count": 98,
   "metadata": {},
   "outputs": [
    {
     "data": {
      "image/png": "[encoded data removed]",
      "text/plain": [
       "<Figure size 432x288 with 1 Axes>"
      ]
     },
     "metadata": {},
     "output_type": "display_data"
    }
   ],
   "source": [
    "noisy_features = np.array([int(x) for x in noisy_features])\n",
    "colors = np.array(['red', 'blue'])[noisy_features]\n",
    "plt.bar(x = np.arange(X_train.shape[1]), height = gini_imp, color = colors)\n",
    "plt.show()"
   ]
  },
  {
   "cell_type": "markdown",
   "metadata": {},
   "source": [
    "### prune features based on their importance measures"
   ]
  },
  {
   "cell_type": "markdown",
   "metadata": {},
   "source": [
    "- classic gini importance"
   ]
  },
  {
   "cell_type": "markdown",
   "metadata": {},
   "source": [
    "     - plot the gini importance"
   ]
  },
  {
   "cell_type": "code",
   "execution_count": 99,
   "metadata": {},
   "outputs": [
    {
     "data": {
      "image/png": "[encoded data removed]",
      "text/plain": [
       "<Figure size 432x288 with 1 Axes>"
      ]
     },
     "metadata": {},
     "output_type": "display_data"
    }
   ],
   "source": [
    "ix = np.argsort(gini_imp * -1)\n",
    "plt.bar(x = list(range(m)), height = gini_imp[ix], color = colors[ix])\n",
    "#plt.xticks(list(range(m)), np.array(names)[ix], rotation='vertical')\n",
    "plt.show()"
   ]
  },
  {
   "cell_type": "markdown",
   "metadata": {},
   "source": [
    "- debiased gini importance"
   ]
  },
  {
   "cell_type": "code",
   "execution_count": 126,
   "metadata": {},
   "outputs": [
    {
     "name": "stdout",
     "output_type": "stream",
     "text": [
      "17.3 s ± 92.5 ms per loop (mean ± std. dev. of 7 runs, 1 loop each)\n"
     ]
    }
   ],
   "source": [
    "%timeit debiased_fi_mean, debiased_fi_std = FI(rf, X_train, y_train[:, np.newaxis], type='oob', normalized=False)"
   ]
  },
  {
   "cell_type": "code",
   "execution_count": 127,
   "metadata": {},
   "outputs": [
    {
     "data": {
      "text/plain": [
       "RandomForestRegressor(bootstrap=True, criterion='mse', max_depth=None,\n",
       "           max_features=8, max_leaf_nodes=None, min_impurity_decrease=0.0,\n",
       "           min_impurity_split=None, min_samples_leaf=1,\n",
       "           min_samples_split=2, min_weight_fraction_leaf=0.0,\n",
       "           n_estimators=100, n_jobs=1, oob_score=False, random_state=None,\n",
       "           verbose=0, warm_start=False)"
      ]
     },
     "execution_count": 127,
     "metadata": {},
     "output_type": "execute_result"
    }
   ],
   "source": [
    "rf"
   ]
  },
  {
   "cell_type": "markdown",
   "metadata": {},
   "source": [
    "    - plot debiased gini importance"
   ]
  },
  {
   "cell_type": "code",
   "execution_count": 101,
   "metadata": {},
   "outputs": [
    {
     "data": {
      "image/png": "[encoded data removed]",
      "text/plain": [
       "<Figure size 432x288 with 1 Axes>"
      ]
     },
     "metadata": {},
     "output_type": "display_data"
    }
   ],
   "source": [
    "debiased_imp = debiased_fi_mean\n",
    "ix = np.argsort(debiased_imp * -1)\n",
    "plt.bar(x = list(range(m)), height = debiased_imp[ix], color=colors[ix])\n",
    "#plt.xticks(list(range(m)), np.array(names)[ix], rotation='vertical')\n",
    "plt.show()"
   ]
  },
  {
   "cell_type": "markdown",
   "metadata": {},
   "source": [
    "- MDA"
   ]
  },
  {
   "cell_type": "code",
   "execution_count": 102,
   "metadata": {},
   "outputs": [
    {
     "data": {
      "image/png": "[encoded data removed]",
      "text/plain": [
       "<Figure size 432x288 with 1 Axes>"
      ]
     },
     "metadata": {},
     "output_type": "display_data"
    }
   ],
   "source": [
    "MDA_imp, _ = MDA(rf, X_test, y_test[:, np.newaxis], type='test', n_trials=10, metric='mse')\n",
    "#MDA_imp[MDA_imp < 0] = 0\n",
    "ix = np.argsort(MDA_imp * -1)\n",
    "plt.bar(x = list(range(m)), height = MDA_imp[ix], color=colors[ix])\n",
    "#plt.xticks(list(range(m)), np.array(names)[ix], rotation='vertical')\n",
    "plt.show()"
   ]
  },
  {
   "cell_type": "markdown",
   "metadata": {},
   "source": [
    "- tree SHAP"
   ]
  },
  {
   "cell_type": "code",
   "execution_count": 103,
   "metadata": {},
   "outputs": [
    {
     "data": {
      "image/png": "[encoded data removed]",
      "text/plain": [
       "<Figure size 576x684 with 1 Axes>"
      ]
     },
     "metadata": {},
     "output_type": "display_data"
    }
   ],
   "source": [
    "explainer = shap.TreeExplainer(rf)\n",
    "samples = np.random.choice(range(X_train.shape[0]), 100)\n",
    "shap_values = explainer.shap_values(X_train[samples, :])\n",
    "shap.summary_plot(shap_values, X_train[samples, :], plot_type=\"bar\")"
   ]
  },
  {
   "cell_type": "code",
   "execution_count": 104,
   "metadata": {},
   "outputs": [
    {
     "data": {
      "image/png": "[encoded data removed]",
      "text/plain": [
       "<Figure size 432x288 with 1 Axes>"
      ]
     },
     "metadata": {},
     "output_type": "display_data"
    }
   ],
   "source": [
    "shap_imp = np.mean(abs(shap_values), 0)\n",
    "ix = np.argsort(shap_imp * -1)\n",
    "plt.bar(x = list(range(m)), height = shap_imp[ix], color=colors[ix])\n",
    "plt.xticks(list(range(m)), np.array(names)[ix], rotation='vertical')\n",
    "plt.show()"
   ]
  },
  {
   "cell_type": "markdown",
   "metadata": {},
   "source": [
    "### Comparison"
   ]
  },
  {
   "cell_type": "code",
   "execution_count": 105,
   "metadata": {},
   "outputs": [],
   "source": [
    "debiased_imp[debiased_imp < 0] = 0\n",
    "MDA_imp[MDA_imp < 0] = 0"
   ]
  },
  {
   "cell_type": "code",
   "execution_count": 106,
   "metadata": {},
   "outputs": [
    {
     "data": {
      "text/plain": [
       "0.9786666666666667"
      ]
     },
     "execution_count": 106,
     "metadata": {},
     "output_type": "execute_result"
    }
   ],
   "source": [
    "roc_auc_score(noisy_features, - debiased_imp)"
   ]
  },
  {
   "cell_type": "code",
   "execution_count": 107,
   "metadata": {},
   "outputs": [
    {
     "data": {
      "text/plain": [
       "0.7386666666666667"
      ]
     },
     "execution_count": 107,
     "metadata": {},
     "output_type": "execute_result"
    }
   ],
   "source": [
    "roc_auc_score(noisy_features, - gini_imp)"
   ]
  },
  {
   "cell_type": "code",
   "execution_count": 108,
   "metadata": {},
   "outputs": [
    {
     "data": {
      "text/plain": [
       "0.9946666666666667"
      ]
     },
     "execution_count": 108,
     "metadata": {},
     "output_type": "execute_result"
    }
   ],
   "source": [
    "roc_auc_score(noisy_features, - shap_imp)"
   ]
  },
  {
   "cell_type": "code",
   "execution_count": 109,
   "metadata": {},
   "outputs": [
    {
     "data": {
      "text/plain": [
       "0.8533333333333334"
      ]
     },
     "execution_count": 109,
     "metadata": {},
     "output_type": "execute_result"
    }
   ],
   "source": [
    "roc_auc_score(noisy_features, - MDA_imp)"
   ]
  },
  {
   "cell_type": "markdown",
   "metadata": {},
   "source": [
    "<hr />\n",
    "\n",
    "### summary of the results from .py file"
   ]
  },
  {
   "cell_type": "code",
   "execution_count": 122,
   "metadata": {},
   "outputs": [],
   "source": [
    "tmp = np.load('../intermediate/02_simulation_results_correlated_features_max_feature_8.npz')\n",
    "debiased, gini, shap, mda = [tmp[x] for x in list(tmp)]"
   ]
  },
  {
   "cell_type": "code",
   "execution_count": 123,
   "metadata": {},
   "outputs": [
    {
     "data": {
      "text/plain": [
       "(array([0.524     , 0.80533333, 0.512     , 0.54533333, 0.61333333,\n",
       "        0.824     , 0.80933333, 0.73866667, 0.79466667, 0.80666667,\n",
       "        0.45866667, 0.99733333, 0.696     , 0.65866667, 0.64133333,\n",
       "        0.64666667, 0.62133333, 0.63733333, 0.828     , 0.81866667,\n",
       "        0.99466667, 0.624     , 0.58133333, 0.48666667, 0.73866667,\n",
       "        0.596     , 0.81066667, 0.52533333, 0.66      , 0.84533333,\n",
       "        0.81066667, 0.52      , 0.576     , 0.648     , 0.616     ,\n",
       "        0.59733333, 0.96266667, 0.80666667, 0.54933333, 0.556     ]),\n",
       " array([0.48533333, 0.86133333, 0.69866667, 0.424     , 0.68533333,\n",
       "        0.928     , 0.85866667, 0.54933333, 0.71866667, 0.792     ,\n",
       "        0.664     , 0.88266667, 0.77333333, 0.66933333, 0.664     ,\n",
       "        0.78266667, 0.824     , 0.62133333, 0.88933333, 0.68533333,\n",
       "        0.984     , 0.816     , 0.65066667, 0.59066667, 0.82666667,\n",
       "        0.49866667, 0.91066667, 0.736     , 0.79733333, 0.872     ,\n",
       "        0.81866667, 0.64533333, 0.38933333, 0.792     , 0.73066667,\n",
       "        0.70133333, 0.96      , 0.86933333, 0.70133333, 0.448     ]),\n",
       " array([0.67466667, 0.856     , 0.712     , 0.66      , 0.8       ,\n",
       "        0.88533333, 0.90133333, 0.72533333, 0.87466667, 0.81066667,\n",
       "        0.79466667, 1.        , 0.37333333, 0.728     , 0.66133333,\n",
       "        0.90666667, 0.736     , 0.856     , 0.69866667, 0.992     ,\n",
       "        1.        , 0.79333333, 0.82266667, 0.74      , 0.768     ,\n",
       "        0.65466667, 0.89466667, 0.648     , 0.83733333, 0.81066667,\n",
       "        0.924     , 0.86133333, 0.68      , 0.89333333, 0.80266667,\n",
       "        0.42133333, 0.78666667, 0.912     , 0.72      , 0.66133333]))"
      ]
     },
     "execution_count": 123,
     "metadata": {},
     "output_type": "execute_result"
    }
   ],
   "source": [
    "tmp2 = pd.read_csv('../intermediate/02_simulation_results_R_correlated.csv')\n",
    "gini_R, ranger, cforest = np.array(tmp2.iloc[:, 1]), np.array(tmp2.iloc[:, 2]), np.array(tmp2.iloc[:, 3])\n",
    "gini_R, ranger, cforest"
   ]
  },
  {
   "cell_type": "code",
   "execution_count": 124,
   "metadata": {},
   "outputs": [],
   "source": [
    "out = np.array([debiased, shap,ranger, mda, cforest, gini]).T"
   ]
  },
  {
   "cell_type": "code",
   "execution_count": 125,
   "metadata": {},
   "outputs": [
    {
     "data": {
      "image/png": "[encoded data removed]",
      "text/plain": [
       "<Figure size 432x288 with 1 Axes>"
      ]
     },
     "metadata": {},
     "output_type": "display_data"
    }
   ],
   "source": [
    "plt.boxplot(out)\n",
    "plt.xticks(list(range(1, 7)), ['OOB MDI', 'SHAP', 'ranger', 'MDA', 'cforest', 'MDI'])\n",
    "plt.show()"
   ]
  },
  {
   "cell_type": "code",
   "execution_count": 121,
   "metadata": {},
   "outputs": [
    {
     "data": {
      "text/plain": [
       "array([0.75066667, 0.66103333, 0.7299    , 0.5239    , 0.78196667,\n",
       "       0.62723333])"
      ]
     },
     "execution_count": 121,
     "metadata": {},
     "output_type": "execute_result"
    }
   ],
   "source": [
    "np.mean(out, 0)"
   ]
  }
 ],
 "metadata": {
  "kernelspec": {
   "display_name": "Environment (conda_python3)",
   "language": "python",
   "name": "conda_python3"
  },
  "language_info": {
   "codemirror_mode": {
    "name": "ipython",
    "version": 3
   },
   "file_extension": ".py",
   "mimetype": "text/x-python",
   "name": "python",
   "nbconvert_exporter": "python",
   "pygments_lexer": "ipython3",
   "version": "3.7.4"
  }
 },
 "nbformat": 4,
 "nbformat_minor": 2
}
