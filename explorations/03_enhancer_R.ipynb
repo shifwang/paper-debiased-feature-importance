{
 "cells": [
  {
   "cell_type": "code",
   "execution_count": 70,
   "metadata": {},
   "outputs": [],
   "source": [
    "require('ranger')\n",
    "require('party')"
   ]
  },
  {
   "cell_type": "code",
   "execution_count": 71,
   "metadata": {},
   "outputs": [
    {
     "ename": "ERROR",
     "evalue": "Error in ranger(y ~ ., data = data.dgi, num.trees = 100, mtry = 3, importance = \"impurity\", : unused argument (max.depth = 20)\n",
     "execution_count": 71,
     "output_type": "error",
     "traceback": [
      "Error in ranger(y ~ ., data = data.dgi, num.trees = 100, mtry = 3, importance = \"impurity\", : unused argument (max.depth = 20)\nTraceback:\n"
     ]
    }
   ],
   "source": [
    "X.train.dgi <- read.csv(\"../intermediate/02_enhancer/permuted1_X_train.csv\", header = FALSE)\n",
    "y.train.dgi <- read.csv(\"../intermediate/02_enhancer/permuted1_y_train.csv\", header = FALSE)\n",
    "noisy_features <- read.csv('../intermediate/02_enhancer/permuted1_noisy_features.csv', header = FALSE)\n",
    "\n",
    "set.seed(2356789)\n",
    "data.dgi <- data.frame(X.train.dgi, y = y.train.dgi[, 1])\n",
    "dgi.rf = ranger(y ~ ., data = data.dgi, \n",
    "       num.trees = 100,\n",
    "       mtry = 3,\n",
    "       importance = \"impurity\",\n",
    "       max.depth = 20)\n",
    "imp_org = dgi.rf$variable.importance\n",
    "imp_org = imp_org/sum(imp_org)\n",
    "\n",
    "dgi.perm = ranger(y ~ ., data = data.dgi, \n",
    "                num.trees = 100,\n",
    "                mtry = 3,\n",
    "                importance = \"impurity_corrected\",\n",
    "                 min.node.size = 20)\n",
    "imp_ranger = dgi.perm$variable.importance\n",
    "imp_ranger = imp_ranger/sum(imp_ranger)\n",
    "\n",
    "dgi.cforest = cforest(y~., data = data.dgi,\n",
    "                           control = cforest_control(ntree = 100, \n",
    "                                                     mtry = 3, \n",
    "                                                     maxdepth = 20))\n",
    "imp_cforest = varimp(dgi.cforest)\n",
    "imp_cforest = imp_cforest/sum(imp_cforest)\n",
    "\n",
    "imp = data.frame(imp_org, imp_ranger, imp_cforest)\n",
    "write.csv(imp, \"imp.csv\")"
   ]
  },
  {
   "cell_type": "code",
   "execution_count": 72,
   "metadata": {},
   "outputs": [
    {
     "data": {
      "text/plain": [
       "R version 3.5.1 (2018-07-02)\n",
       "Platform: x86_64-pc-linux-gnu (64-bit)\n",
       "Running under: Ubuntu 16.04.6 LTS\n",
       "\n",
       "Matrix products: default\n",
       "BLAS: /home/ubuntu/anaconda3/envs/R/lib/R/lib/libRblas.so\n",
       "LAPACK: /home/ubuntu/anaconda3/envs/R/lib/R/lib/libRlapack.so\n",
       "\n",
       "locale:\n",
       " [1] LC_CTYPE=en_US.UTF-8       LC_NUMERIC=C              \n",
       " [3] LC_TIME=en_US.UTF-8        LC_COLLATE=en_US.UTF-8    \n",
       " [5] LC_MONETARY=en_US.UTF-8    LC_MESSAGES=en_US.UTF-8   \n",
       " [7] LC_PAPER=en_US.UTF-8       LC_NAME=C                 \n",
       " [9] LC_ADDRESS=C               LC_TELEPHONE=C            \n",
       "[11] LC_MEASUREMENT=en_US.UTF-8 LC_IDENTIFICATION=C       \n",
       "\n",
       "attached base packages:\n",
       "[1] stats4    grid      stats     graphics  grDevices utils     datasets \n",
       "[8] methods   base     \n",
       "\n",
       "other attached packages:\n",
       " [1] pROC_1.12.1          party_1.3-0          strucchange_1.5-1   \n",
       " [4] sandwich_2.4-0       zoo_1.8-3            modeltools_0.2-22   \n",
       " [7] mvtnorm_1.0-8        ranger_0.10.1        RevoUtils_11.0.1    \n",
       "[10] RevoUtilsMath_11.0.0\n",
       "\n",
       "loaded via a namespace (and not attached):\n",
       " [1] pbdZMQ_0.3-3     tidyselect_0.2.4 coin_1.2-2       repr_0.15.0     \n",
       " [5] purrr_0.2.5      splines_3.5.1    lattice_0.20-35  colorspace_1.3-2\n",
       " [9] htmltools_0.3.6  base64enc_0.1-3  survival_2.42-3  rlang_0.2.1     \n",
       "[13] pillar_1.3.0     glue_1.3.0       bindrcpp_0.2.2   uuid_0.1-2      \n",
       "[17] multcomp_1.4-8   plyr_1.8.4       bindr_0.1.1      stringr_1.3.1   \n",
       "[21] munsell_0.5.0    gtable_0.2.0     codetools_0.2-15 evaluate_0.11   \n",
       "[25] TH.data_1.0-9    IRdisplay_0.5.0  Rcpp_0.12.18     scales_0.5.0    \n",
       "[29] IRkernel_0.8.11  jsonlite_1.5     ggplot2_3.0.0    digest_0.6.15   \n",
       "[33] stringi_1.2.4    dplyr_0.7.6      tools_3.5.1      magrittr_1.5    \n",
       "[37] lazyeval_0.2.1   tibble_1.4.2     pkgconfig_2.0.1  crayon_1.3.4    \n",
       "[41] MASS_7.3-50      Matrix_1.2-14    assertthat_0.2.0 R6_2.2.2        \n",
       "[45] compiler_3.5.1  "
      ]
     },
     "metadata": {},
     "output_type": "display_data"
    }
   ],
   "source": [
    "sessionInfo()"
   ]
  },
  {
   "cell_type": "code",
   "execution_count": 24,
   "metadata": {},
   "outputs": [
    {
     "data": {
      "text/html": [
       "<table>\n",
       "<thead><tr><th></th><th scope=col>V1</th></tr></thead>\n",
       "<tbody>\n",
       "\t<tr><th scope=row>imp_org</th><td>-0.1397322</td></tr>\n",
       "\t<tr><th scope=row>imp_ranger</th><td> 0.2618766</td></tr>\n",
       "\t<tr><th scope=row>imp_cforest</th><td> 0.1636625</td></tr>\n",
       "</tbody>\n",
       "</table>\n"
      ],
      "text/latex": [
       "\\begin{tabular}{r|l}\n",
       "  & V1\\\\\n",
       "\\hline\n",
       "\timp\\_org & -0.1397322\\\\\n",
       "\timp\\_ranger &  0.2618766\\\\\n",
       "\timp\\_cforest &  0.1636625\\\\\n",
       "\\end{tabular}\n"
      ],
      "text/markdown": [
       "\n",
       "| <!--/--> | V1 | \n",
       "|---|---|---|\n",
       "| imp_org | -0.1397322 | \n",
       "| imp_ranger |  0.2618766 | \n",
       "| imp_cforest |  0.1636625 | \n",
       "\n",
       "\n"
      ],
      "text/plain": [
       "            V1        \n",
       "imp_org     -0.1397322\n",
       "imp_ranger   0.2618766\n",
       "imp_cforest  0.1636625"
      ]
     },
     "metadata": {},
     "output_type": "display_data"
    }
   ],
   "source": [
    "cor(imp, 1 - noisy_features)"
   ]
  },
  {
   "cell_type": "code",
   "execution_count": 36,
   "metadata": {},
   "outputs": [
    {
     "ename": "ERROR",
     "evalue": "Error in roc.default(array(noisy_features), array(noisy_features)): 'response' must have two levels\n",
     "execution_count": 36,
     "output_type": "error",
     "traceback": [
      "Error in roc.default(array(noisy_features), array(noisy_features)): 'response' must have two levels\nTraceback:\n",
      "1. roc(array(noisy_features), array(noisy_features))",
      "2. roc.default(array(noisy_features), array(noisy_features))",
      "3. stop(\"'response' must have two levels\")"
     ]
    }
   ],
   "source": [
    "library(pROC)\n",
    "roc_obj <- roc(array(noisy_features), array(noisy_features))\n",
    "auc(roc_obj)"
   ]
  },
  {
   "cell_type": "code",
   "execution_count": 65,
   "metadata": {},
   "outputs": [
    {
     "data": {
      "text/html": [
       "0.32073"
      ],
      "text/latex": [
       "0.32073"
      ],
      "text/markdown": [
       "0.32073"
      ],
      "text/plain": [
       "[1] 0.32073"
      ]
     },
     "metadata": {},
     "output_type": "display_data"
    }
   ],
   "source": [
    "pos.scores <- imp$imp_org[noisy_features == 0]\n",
    "neg.scores <- imp$imp_org[noisy_features == 1]\n",
    "mean(sample(pos.scores,100000,replace=T) > sample(neg.scores,100000,replace=T))"
   ]
  },
  {
   "cell_type": "code",
   "execution_count": 69,
   "metadata": {},
   "outputs": [
    {
     "data": {
      "text/html": [
       "<ol class=list-inline>\n",
       "\t<li>3912</li>\n",
       "\t<li>80</li>\n",
       "</ol>\n"
      ],
      "text/latex": [
       "\\begin{enumerate*}\n",
       "\\item 3912\n",
       "\\item 80\n",
       "\\end{enumerate*}\n"
      ],
      "text/markdown": [
       "1. 3912\n",
       "2. 80\n",
       "\n",
       "\n"
      ],
      "text/plain": [
       "[1] 3912   80"
      ]
     },
     "metadata": {},
     "output_type": "display_data"
    }
   ],
   "source": [
    "dim(X.train.dgi)"
   ]
  },
  {
   "cell_type": "code",
   "execution_count": null,
   "metadata": {},
   "outputs": [],
   "source": []
  }
 ],
 "metadata": {
  "kernelspec": {
   "display_name": "R",
   "language": "R",
   "name": "ir"
  },
  "language_info": {
   "codemirror_mode": "r",
   "file_extension": ".r",
   "mimetype": "text/x-r-source",
   "name": "R",
   "pygments_lexer": "r",
   "version": "3.5.1"
  }
 },
 "nbformat": 4,
 "nbformat_minor": 2
}
