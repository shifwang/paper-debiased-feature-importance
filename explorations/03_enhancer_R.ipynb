{
 "cells": [
  {
   "cell_type": "code",
   "execution_count": 2,
   "metadata": {},
   "outputs": [
    {
     "name": "stderr",
     "output_type": "stream",
     "text": [
      "Loading required package: party\n",
      "Loading required package: grid\n",
      "Loading required package: mvtnorm\n",
      "Loading required package: modeltools\n",
      "Loading required package: stats4\n",
      "Loading required package: strucchange\n",
      "Loading required package: zoo\n",
      "\n",
      "Attaching package: ‘zoo’\n",
      "\n",
      "The following objects are masked from ‘package:base’:\n",
      "\n",
      "    as.Date, as.Date.numeric\n",
      "\n",
      "Loading required package: sandwich\n"
     ]
    }
   ],
   "source": [
    "require('ranger')\n",
    "require('party')"
   ]
  },
  {
   "cell_type": "code",
   "execution_count": 21,
   "metadata": {},
   "outputs": [],
   "source": [
    "X.train.dgi <- read.csv(\"../intermediate/02_enhancer/permuted1_X_train.csv\", header = FALSE)\n",
    "y.train.dgi <- read.csv(\"../intermediate/02_enhancer/permuted1_y_train.csv\", header = FALSE)\n",
    "noisy_features <- read.csv('../intermediate/02_enhancer/permuted1_noisy_features.csv', header = FALSE)\n",
    "\n",
    "set.seed(2356789)\n",
    "data.dgi <- data.frame(X.train.dgi, y = y.train.dgi[, 1])\n",
    "dgi.rf = ranger(y ~ ., data = data.dgi, \n",
    "       num.trees = 100,\n",
    "       mtry = 3,\n",
    "       importance = \"impurity\",\n",
    "       min.node.size = 20)\n",
    "imp_org = dgi.rf$variable.importance\n",
    "imp_org = imp_org/sum(imp_org)\n",
    "\n",
    "dgi.perm = ranger(y ~ ., data = data.dgi, \n",
    "                num.trees = 100,\n",
    "                mtry = 3,\n",
    "                importance = \"impurity_corrected\",\n",
    "                 min.node.size = 20)\n",
    "imp_ranger = dgi.perm$variable.importance\n",
    "imp_ranger = imp_ranger/sum(imp_ranger)\n",
    "\n",
    "dgi.cforest = cforest(y~., data = data.dgi,\n",
    "                           control = cforest_control(ntree = 100, \n",
    "                                                     mtry = 3, \n",
    "                                                     maxdepth = 20))\n",
    "imp_cforest = varimp(dgi.cforest)\n",
    "imp_cforest = imp_cforest/sum(imp_cforest)\n",
    "\n",
    "imp = data.frame(imp_org, imp_ranger, imp_cforest)\n",
    "write.csv(imp, \"imp.csv\")"
   ]
  },
  {
   "cell_type": "code",
   "execution_count": 24,
   "metadata": {},
   "outputs": [
    {
     "data": {
      "text/html": [
       "<table>\n",
       "<thead><tr><th></th><th scope=col>V1</th></tr></thead>\n",
       "<tbody>\n",
       "\t<tr><th scope=row>imp_org</th><td>-0.1397322</td></tr>\n",
       "\t<tr><th scope=row>imp_ranger</th><td> 0.2618766</td></tr>\n",
       "\t<tr><th scope=row>imp_cforest</th><td> 0.1636625</td></tr>\n",
       "</tbody>\n",
       "</table>\n"
      ],
      "text/latex": [
       "\\begin{tabular}{r|l}\n",
       "  & V1\\\\\n",
       "\\hline\n",
       "\timp\\_org & -0.1397322\\\\\n",
       "\timp\\_ranger &  0.2618766\\\\\n",
       "\timp\\_cforest &  0.1636625\\\\\n",
       "\\end{tabular}\n"
      ],
      "text/markdown": [
       "\n",
       "| <!--/--> | V1 | \n",
       "|---|---|---|\n",
       "| imp_org | -0.1397322 | \n",
       "| imp_ranger |  0.2618766 | \n",
       "| imp_cforest |  0.1636625 | \n",
       "\n",
       "\n"
      ],
      "text/plain": [
       "            V1        \n",
       "imp_org     -0.1397322\n",
       "imp_ranger   0.2618766\n",
       "imp_cforest  0.1636625"
      ]
     },
     "metadata": {},
     "output_type": "display_data"
    }
   ],
   "source": [
    "cor(imp, 1 - noisy_features)"
   ]
  },
  {
   "cell_type": "code",
   "execution_count": 36,
   "metadata": {},
   "outputs": [
    {
     "ename": "ERROR",
     "evalue": "Error in roc.default(array(noisy_features), array(noisy_features)): 'response' must have two levels\n",
     "execution_count": 36,
     "output_type": "error",
     "traceback": [
      "Error in roc.default(array(noisy_features), array(noisy_features)): 'response' must have two levels\nTraceback:\n",
      "1. roc(array(noisy_features), array(noisy_features))",
      "2. roc.default(array(noisy_features), array(noisy_features))",
      "3. stop(\"'response' must have two levels\")"
     ]
    }
   ],
   "source": [
    "library(pROC)\n",
    "roc_obj <- roc(array(noisy_features), array(noisy_features))\n",
    "auc(roc_obj)"
   ]
  },
  {
   "cell_type": "code",
   "execution_count": null,
   "metadata": {},
   "outputs": [],
   "source": [
    "pos.scores <- imp$imp_org[noisy_features == 0]\n",
    "neg.scores <- imp$imp_org[noisy_features == 1]\n",
    "mean(sample(pos.scores,100000,replace=T) > sample(neg.scores,100000,replace=T))"
   ]
  },
  {
   "cell_type": "code",
   "execution_count": null,
   "metadata": {},
   "outputs": [],
   "source": []
  }
 ],
 "metadata": {
  "kernelspec": {
   "display_name": "R",
   "language": "R",
   "name": "ir"
  },
  "language_info": {
   "codemirror_mode": "r",
   "file_extension": ".r",
   "mimetype": "text/x-r-source",
   "name": "R",
   "pygments_lexer": "r",
   "version": "3.5.1"
  }
 },
 "nbformat": 4,
 "nbformat_minor": 2
}
